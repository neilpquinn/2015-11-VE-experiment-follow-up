{
 "cells": [
  {
   "cell_type": "markdown",
   "metadata": {},
   "source": [
    "# Summary #\n",
    "\n",
    "**Note: This notebook is a draft (and I can't promise when I'll fix that), so it may be incomplete in places. If you have questions, feel free to ask on [my talk page](https://meta.wikimedia.org/wiki/User_talk:Neil_P._Quinn-WMF).**"
   ]
  },
  {
   "cell_type": "markdown",
   "metadata": {},
   "source": [
    "## History ##\n",
    "First a little history. \n",
    "\n",
    "This analysis follows up on the work done by Aaron Halfaker in his [May 2015 visual editor experiment](https://meta.wikimedia.org/wiki/Research:VisualEditor's_effect_on_newly_registered_editors/May_2015_study). In that study, all the new accounts created on the English Wikipedia during one week [were divided evenly](https://meta.wikimedia.org/wiki/Research_talk:VisualEditor's_effect_on_newly_registered_editors/Work_log/2015-06-05) between a treatment group which was automatically offered the new visual editor alongside the existing wikitext editor and control group which was not.\n",
    "\n",
    "That experiment helped win the English Wikipedia community's consent to start giving the visual editor to new users automatically. \n",
    "\n",
    "In turn, I am expanding Aaron's original cohort by looking at data for the incremental rollout to new editors. We started by giving the visual editor to 5% of new users, then 10%, then 25%, and so on up to 100%, where the level remains. Since we applied each percentage randomly, we can incorporate some of those users into the treatment and control groups. \n",
    "\n",
    "In addition, Aaron investigated the users for a week after their registration. I am expanding that to 60 days after their registration.\n",
    "\n",
    "When I originally performed the follow-up with the original cohort, most of the results were fairly ho-hum, but I did find one intriguing effect: the visual editor group had a higher proportion of accounts who survived to make at least one edit more than 30 days after editing."
   ]
  },
  {
   "cell_type": "markdown",
   "metadata": {},
   "source": [
    "# Issues #\n",
    "The revisions dataset includes all the revisions made by the cohort from the time of the first signup to sixty days after the last. That means some cohort members have more time to make revisions than others. I take care of this for the survival analysis, but I should do so for whole thing."
   ]
  },
  {
   "cell_type": "markdown",
   "metadata": {},
   "source": [
    "# Cohort\n",
    "In all of these stages, we determined whether to offer the user the visual editor by checking the modulus of their user ID ([code for the experiment](https://gerrit.wikimedia.org/r/#/c/68845/4/VisualEditor.hooks.php), [code for the incremental rollout](https://github.com/wikimedia/mediawiki-extensions-VisualEditor/blob/b550323b534b59622afefdf9bf9fbc23f177f46f/VisualEditor.hooks.php#L766)). In both cases, when the VE was being offered to users at x% = (1 / y ), a user got VE if ( userID % y = 0 ). Where the VE users and control users were not evenly matched, our matched control will be users where ( userID % y  = 1).\n",
    "\n",
    "Our groups will *not* be perfectly matched, because many of the new accounts generated at the English Wikipedia are autocreated when users with accounts on other Wikimedia projects browse over to the English Wikipedia, not when users on the English Wikipedia click the \"create account\" button. Our cohort only includes the second group, because users who already have accounts on other projects are likely to behave quite differently.\n",
    "\n",
    "This means that our list of newly created accounts will have random gaps where autocreated accounts used up the IDs. Since they're distributed randomly, this shouldn't affect our analysis.\n",
    "\n",
    "The detailed schedule of these stages is [here](https://www.mediawiki.org/w/index.php?title=VisualEditor/Rollouts/English_Wikipedia&oldid=1934590)."
   ]
  },
  {
   "cell_type": "markdown",
   "metadata": {
    "collapsed": true
   },
   "source": [
    "First, we create a table to hold the users.\n",
    "\n",
    "```\n",
    "CREATE TABLE `ve_experiment_expanded` (\n",
    "  `user_id` INT NOT NULL,\n",
    "  `registration` VARBINARY(14) NOT NULL,\n",
    "  `bucket` ENUM(\"treatment\", \"control\") NOT NULL,\n",
    "  `mobile_registered` BOOLEAN DEFAULT NULL,\n",
    "  PRIMARY KEY (`user_id`)\n",
    ");\n",
    "```\n",
    "\n",
    "## Pilot ##\n",
    "\n",
    "```\n",
    "INSERT INTO staging.ve_experiment_expanded\n",
    "SELECT \n",
    "    event_userId AS user_id, \n",
    "    timestamp AS registration,\n",
    "    CASE\n",
    "        WHEN event_userId % 2 = 0 THEN \"treatment\"\n",
    "        WHEN event_userId % 2 = 1 THEN \"control\"\n",
    "    END AS bucket,\n",
    "    IF( ( event_displayMobile OR NOT event_isSelfMade ), 1, 0 ) AS mobile_registered\n",
    "FROM ServerSideAccountCreation_5487345\n",
    "WHERE\n",
    "    timestamp >= \"201505211500\" AND\n",
    "    timestamp <  \"201505221501\" AND\n",
    "    wiki = \"enwiki\" AND\n",
    "    ( event_userId % 2 =  0 || event_userId % 2 = 1 )\n",
    ";\n",
    "```\n",
    "\n",
    "## Experiment ##\n",
    "```\n",
    "INSERT INTO staging.ve_experiment_expanded\n",
    "SELECT \n",
    "    event_userId AS user_id, \n",
    "    timestamp AS registration,\n",
    "    CASE\n",
    "        WHEN event_userId % 2 = 0 THEN \"treatment\"\n",
    "        WHEN event_userId % 2 = 1 THEN \"control\"\n",
    "    END AS bucket,\n",
    "    IF( ( event_displayMobile OR NOT event_isSelfMade ), 1, 0 ) AS mobile_registered\n",
    "FROM ServerSideAccountCreation_5487345\n",
    "WHERE\n",
    "    timestamp >= \"201505282304\" AND\n",
    "    timestamp <  \"201506042328\" AND\n",
    "    wiki = \"enwiki\" AND\n",
    "    ( event_userId % 2 =  0 || event_userId % 2 = 1 )\n",
    ";\n",
    "```\n",
    "\n",
    "## 5% rollout ##\n",
    "```\n",
    "INSERT INTO staging.ve_experiment_expanded\n",
    "SELECT \n",
    "    event_userId AS user_id, \n",
    "    timestamp AS registration,\n",
    "    CASE\n",
    "        WHEN event_userId % 20 = 0 THEN \"treatment\"\n",
    "        WHEN event_userId % 20 = 1 THEN \"control\"\n",
    "    END AS bucket,\n",
    "    IF( ( event_displayMobile OR NOT event_isSelfMade ), 1, 0 ) AS mobile_registered\n",
    "FROM ServerSideAccountCreation_5487345\n",
    "WHERE\n",
    "    timestamp >= \"201507281503\" AND\n",
    "    timestamp <  \"201508041513\" AND\n",
    "    wiki = \"enwiki\" AND\n",
    "    ( event_userId % 20 =  0 || event_userId % 20 = 1 )\n",
    ";\n",
    "```\n",
    "\n",
    "## 10% rollout ##\n",
    "```\n",
    "INSERT INTO staging.ve_experiment_expanded\n",
    "SELECT \n",
    "    event_userId AS user_id, \n",
    "    timestamp AS registration,\n",
    "    CASE\n",
    "        WHEN event_userId % 10 = 0 THEN \"treatment\"\n",
    "        WHEN event_userId % 10 = 1 THEN \"control\"\n",
    "    END AS bucket,\n",
    "    IF( ( event_displayMobile OR NOT event_isSelfMade ), 1, 0 ) AS mobile_registered\n",
    "FROM ServerSideAccountCreation_5487345\n",
    "WHERE\n",
    "    timestamp >= \"201508041513\" AND\n",
    "    timestamp <  \"201508132303\" AND\n",
    "    wiki = \"enwiki\" AND\n",
    "    ( event_userId % 10 =  0 || event_userId % 10 = 1 )\n",
    ";\n",
    "```\n",
    "\n",
    "## 25% rollout ##\n",
    "```\n",
    "INSERT INTO staging.ve_experiment_expanded\n",
    "SELECT \n",
    "    event_userId AS user_id, \n",
    "    timestamp AS registration,\n",
    "    CASE\n",
    "        WHEN event_userId % 4 = 0 THEN \"treatment\"\n",
    "        WHEN event_userId % 4 = 1 THEN \"control\"\n",
    "    END AS bucket,\n",
    "    IF( ( event_displayMobile OR NOT event_isSelfMade ), 1, 0 ) AS mobile_registered\n",
    "FROM ServerSideAccountCreation_5487345\n",
    "WHERE\n",
    "    timestamp >= \"201508132303\" AND\n",
    "    timestamp <  \"201508201525\" AND\n",
    "    wiki = \"enwiki\" AND\n",
    "    ( event_userId % 4 =  0 || event_userId % 4 = 1 )\n",
    ";\n",
    "```\n",
    "\n",
    "## 50% rollout ##\n",
    "```\n",
    "INSERT INTO staging.ve_experiment_expanded\n",
    "SELECT \n",
    "    event_userId AS user_id, \n",
    "    timestamp AS registration,\n",
    "    CASE\n",
    "        WHEN event_userId % 2 = 0 THEN \"treatment\"\n",
    "        WHEN event_userId % 2 = 1 THEN \"control\"\n",
    "    END AS bucket,\n",
    "    IF( ( event_displayMobile OR NOT event_isSelfMade ), 1, 0 ) AS mobile_registered\n",
    "FROM ServerSideAccountCreation_5487345\n",
    "WHERE\n",
    "    timestamp >= \"201508201525\" AND\n",
    "    timestamp <  \"201509011503\" AND\n",
    "    wiki = \"enwiki\" AND\n",
    "    ( event_userId % 2 =  0 || event_userId % 2 = 1 )\n",
    ";\n",
    "```"
   ]
  },
  {
   "cell_type": "code",
   "execution_count": 45,
   "metadata": {
    "collapsed": true
   },
   "outputs": [],
   "source": [
    "%matplotlib inline\n",
    "\n",
    "import pandas as pd\n",
    "import scipy.stats as stats\n",
    "import matplotlib.pyplot as plt\n",
    "import math\n",
    "import datetime as dt"
   ]
  },
  {
   "cell_type": "markdown",
   "metadata": {},
   "source": [
    "# Data"
   ]
  },
  {
   "cell_type": "markdown",
   "metadata": {},
   "source": [
    "```\n",
    "mysql -h analytics-store.eqiad.wmnet -u research -e \"\n",
    "SELECT\n",
    "    user_id,\n",
    "    registration,\n",
    "    bucket,\n",
    "    mobile_registered\n",
    "FROM staging.ve_experiment_expanded\n",
    ";\" > ~/VE_experiment_cohort.tsv\n",
    "```\n",
    "\n",
    "Then, I generate a dataset of all the edits made by accounts from the experiment in our time period. This is based on [Aaron's code](https://github.com/halfak/VE_newcomers_May_2015/blob/master/sql/experimental_user_revision_stats.sql).\n",
    "\n",
    "```\n",
    "mysql -h analytics-store.eqiad.wmnet -u research -e \"\n",
    "SELECT\n",
    "    user_id,\n",
    "    current.rev_id AS rev_id,\n",
    "    current.rev_timestamp AS rev_timestamp,\n",
    "    ct_tag IS NOT NULL AS ve_used,\n",
    "    CAST(current.rev_len AS INT) -\n",
    "        CAST(IFNULL(parent.rev_len, 0) AS INT) as change_in_bytes\n",
    "FROM staging.ve_experiment_expanded\n",
    "INNER JOIN enwiki.revision current\n",
    "    ON user_id = current.rev_user\n",
    "LEFT JOIN enwiki.revision parent\n",
    "    ON parent.rev_id = current.rev_parent_id\n",
    "LEFT JOIN enwiki.change_tag  \n",
    "    ON ct_rev_id = current.rev_id AND\n",
    "    ct_tag = 'visualeditor'\n",
    "WHERE\n",
    "    current.rev_timestamp BETWEEN\n",
    "       '20150521150000' AND\n",
    "        DATE_FORMAT( DATE_ADD( '20150901150300', INTERVAL 60 DAY ), '%Y%m%d%H%i%S' ) AND\n",
    "    current.rev_timestamp BETWEEN \n",
    "        registration AND\n",
    "        DATE_FORMAT( DATE_ADD( registration, INTERVAL 60 DAY ), '%Y%m%d%H%i%S' )\n",
    ";\" > ~/VE_experiment_revs.tsv\n",
    "```\n",
    "\n",
    "The where clause limits it to revisions made after the first registration but within 60 days after the last."
   ]
  },
  {
   "cell_type": "markdown",
   "metadata": {},
   "source": [
    "Load and clean the data."
   ]
  },
  {
   "cell_type": "code",
   "execution_count": 56,
   "metadata": {
    "collapsed": false
   },
   "outputs": [],
   "source": [
    "user_dtypes = {\n",
    "    \"user_id\": int, \n",
    "    \"registration\": str, \n",
    "    \"bucket\": str,\n",
    "    \"mobile_registered\": bool\n",
    "}\n",
    "\n",
    "rev_dtypes = {\n",
    "    \"user_id\": int, \n",
    "    \"rev_id\": int, \n",
    "    \"rev_timestamp\": str,\n",
    "    \"ve_used\": bool,\n",
    "    \"change_in_bytes\": int\n",
    "}\n",
    "\n",
    "users = pd.read_table( \"./VE_experiment_cohort.tsv\", dtype = user_dtypes )\n",
    "revs = pd.read_table( \"./VE_experiment_revs.tsv\", dtype = rev_dtypes)\n",
    "\n",
    "# Make timestamps be actual datetimes\n",
    "revs[\"rev_timestamp\"] = pd.to_datetime( revs[\"rev_timestamp\"], format=\"%Y%m%d%H%M%S\" )\n",
    "users[\"registration\"] = pd.to_datetime( users[\"registration\"], format=\"%Y%m%d%H%M%S\" )\n",
    "\n",
    "# Limit to revisions made within 60 days of that user's registration\n",
    "window = dt.timedelta( days = 60 )\n",
    "revs = pd.merge(revs, users, on = \"user_id\", how = \"left\" )\n",
    "revs = revs[ revs[\"rev_timestamp\"] < ( revs[\"registration\"] + window ) ]\n",
    "\n",
    "# Add the number of revisions to the users frame\n",
    "revs_by_user = revs.groupby( \"user_id\" )[ \"rev_id\" ].size().to_frame().reset_index()\n",
    "revs_by_user.rename( columns = { 0: \"revs\" }, inplace = True )\n",
    "users = pd.merge( users, revs_by_user, on = \"user_id\", how = \"left\" )\n",
    "users.fillna( 0, inplace = True )"
   ]
  },
  {
   "cell_type": "markdown",
   "metadata": {},
   "source": [
    "We're not interested in people who primarily use Wikipedia on mobile devices, because the visual editor is only widely available on desktop computers. Unfortunately, there's no simple ways to tell if someone is a mobile only user, but from past experience, registering the account from a mobile device is a pretty good proxy. So we'll exclude users who signed up using an app or the mobile web interface."
   ]
  },
  {
   "cell_type": "code",
   "execution_count": 60,
   "metadata": {
    "collapsed": true
   },
   "outputs": [],
   "source": [
    "users = users[ users[\"mobile_registered\"] == False ]\n",
    "revs = revs[ revs[\"mobile_registered\"] == False ]"
   ]
  },
  {
   "cell_type": "code",
   "execution_count": 61,
   "metadata": {
    "collapsed": false
   },
   "outputs": [
    {
     "data": {
      "text/html": [
       "<div>\n",
       "<table border=\"1\" class=\"dataframe\">\n",
       "  <thead>\n",
       "    <tr style=\"text-align: right;\">\n",
       "      <th></th>\n",
       "      <th>user_id</th>\n",
       "      <th>registration</th>\n",
       "      <th>bucket</th>\n",
       "      <th>mobile_registered</th>\n",
       "      <th>revs</th>\n",
       "    </tr>\n",
       "  </thead>\n",
       "  <tbody>\n",
       "    <tr>\n",
       "      <th>148965</th>\n",
       "      <td>26149202</td>\n",
       "      <td>2015-09-01 15:01:32</td>\n",
       "      <td>treatment</td>\n",
       "      <td>False</td>\n",
       "      <td>0.0</td>\n",
       "    </tr>\n",
       "    <tr>\n",
       "      <th>148966</th>\n",
       "      <td>26149203</td>\n",
       "      <td>2015-09-01 15:01:46</td>\n",
       "      <td>control</td>\n",
       "      <td>False</td>\n",
       "      <td>0.0</td>\n",
       "    </tr>\n",
       "    <tr>\n",
       "      <th>148968</th>\n",
       "      <td>26149205</td>\n",
       "      <td>2015-09-01 15:02:19</td>\n",
       "      <td>control</td>\n",
       "      <td>False</td>\n",
       "      <td>0.0</td>\n",
       "    </tr>\n",
       "    <tr>\n",
       "      <th>148970</th>\n",
       "      <td>26149207</td>\n",
       "      <td>2015-09-01 15:02:24</td>\n",
       "      <td>control</td>\n",
       "      <td>False</td>\n",
       "      <td>0.0</td>\n",
       "    </tr>\n",
       "    <tr>\n",
       "      <th>148972</th>\n",
       "      <td>26149211</td>\n",
       "      <td>2015-09-01 15:02:52</td>\n",
       "      <td>control</td>\n",
       "      <td>False</td>\n",
       "      <td>2.0</td>\n",
       "    </tr>\n",
       "  </tbody>\n",
       "</table>\n",
       "</div>"
      ],
      "text/plain": [
       "         user_id        registration     bucket mobile_registered  revs\n",
       "148965  26149202 2015-09-01 15:01:32  treatment             False   0.0\n",
       "148966  26149203 2015-09-01 15:01:46    control             False   0.0\n",
       "148968  26149205 2015-09-01 15:02:19    control             False   0.0\n",
       "148970  26149207 2015-09-01 15:02:24    control             False   0.0\n",
       "148972  26149211 2015-09-01 15:02:52    control             False   2.0"
      ]
     },
     "execution_count": 61,
     "metadata": {},
     "output_type": "execute_result"
    }
   ],
   "source": [
    "users.tail()"
   ]
  },
  {
   "cell_type": "code",
   "execution_count": 62,
   "metadata": {
    "collapsed": false
   },
   "outputs": [
    {
     "data": {
      "text/html": [
       "<div>\n",
       "<table border=\"1\" class=\"dataframe\">\n",
       "  <thead>\n",
       "    <tr style=\"text-align: right;\">\n",
       "      <th></th>\n",
       "      <th>user_id</th>\n",
       "      <th>rev_id</th>\n",
       "      <th>rev_timestamp</th>\n",
       "      <th>ve_used</th>\n",
       "      <th>change_in_bytes</th>\n",
       "      <th>registration</th>\n",
       "      <th>bucket</th>\n",
       "      <th>mobile_registered</th>\n",
       "    </tr>\n",
       "  </thead>\n",
       "  <tbody>\n",
       "    <tr>\n",
       "      <th>259211</th>\n",
       "      <td>26144196</td>\n",
       "      <td>688297870</td>\n",
       "      <td>2015-10-30 23:45:20</td>\n",
       "      <td>False</td>\n",
       "      <td>18</td>\n",
       "      <td>2015-09-01 00:24:18</td>\n",
       "      <td>treatment</td>\n",
       "      <td>False</td>\n",
       "    </tr>\n",
       "    <tr>\n",
       "      <th>259212</th>\n",
       "      <td>26144196</td>\n",
       "      <td>688299594</td>\n",
       "      <td>2015-10-31 00:02:11</td>\n",
       "      <td>True</td>\n",
       "      <td>338</td>\n",
       "      <td>2015-09-01 00:24:18</td>\n",
       "      <td>treatment</td>\n",
       "      <td>False</td>\n",
       "    </tr>\n",
       "    <tr>\n",
       "      <th>259213</th>\n",
       "      <td>26144196</td>\n",
       "      <td>688299697</td>\n",
       "      <td>2015-10-31 00:02:59</td>\n",
       "      <td>False</td>\n",
       "      <td>16</td>\n",
       "      <td>2015-09-01 00:24:18</td>\n",
       "      <td>treatment</td>\n",
       "      <td>False</td>\n",
       "    </tr>\n",
       "    <tr>\n",
       "      <th>259214</th>\n",
       "      <td>26144196</td>\n",
       "      <td>688300350</td>\n",
       "      <td>2015-10-31 00:09:25</td>\n",
       "      <td>True</td>\n",
       "      <td>403</td>\n",
       "      <td>2015-09-01 00:24:18</td>\n",
       "      <td>treatment</td>\n",
       "      <td>False</td>\n",
       "    </tr>\n",
       "    <tr>\n",
       "      <th>259215</th>\n",
       "      <td>26144196</td>\n",
       "      <td>688300390</td>\n",
       "      <td>2015-10-31 00:09:49</td>\n",
       "      <td>False</td>\n",
       "      <td>19</td>\n",
       "      <td>2015-09-01 00:24:18</td>\n",
       "      <td>treatment</td>\n",
       "      <td>False</td>\n",
       "    </tr>\n",
       "  </tbody>\n",
       "</table>\n",
       "</div>"
      ],
      "text/plain": [
       "         user_id     rev_id       rev_timestamp ve_used  change_in_bytes  \\\n",
       "259211  26144196  688297870 2015-10-30 23:45:20   False               18   \n",
       "259212  26144196  688299594 2015-10-31 00:02:11    True              338   \n",
       "259213  26144196  688299697 2015-10-31 00:02:59   False               16   \n",
       "259214  26144196  688300350 2015-10-31 00:09:25    True              403   \n",
       "259215  26144196  688300390 2015-10-31 00:09:49   False               19   \n",
       "\n",
       "              registration     bucket mobile_registered  \n",
       "259211 2015-09-01 00:24:18  treatment             False  \n",
       "259212 2015-09-01 00:24:18  treatment             False  \n",
       "259213 2015-09-01 00:24:18  treatment             False  \n",
       "259214 2015-09-01 00:24:18  treatment             False  \n",
       "259215 2015-09-01 00:24:18  treatment             False  "
      ]
     },
     "execution_count": 62,
     "metadata": {},
     "output_type": "execute_result"
    }
   ],
   "source": [
    "revs.tail()"
   ]
  },
  {
   "cell_type": "markdown",
   "metadata": {},
   "source": [
    "In addition, for some analyses we'll want to filter out users who never edited at all."
   ]
  },
  {
   "cell_type": "code",
   "execution_count": 63,
   "metadata": {
    "collapsed": false
   },
   "outputs": [],
   "source": [
    "editors = users[users[\"revs\"] > 0]"
   ]
  },
  {
   "cell_type": "markdown",
   "metadata": {},
   "source": [
    "# Utility methods"
   ]
  },
  {
   "cell_type": "code",
   "execution_count": 8,
   "metadata": {
    "collapsed": true
   },
   "outputs": [],
   "source": [
    "def split_buckets(df):\n",
    "    df.treatment = df[df[\"bucket\"] == \"treatment\"]\n",
    "    df.control = df[df[\"bucket\"] == \"control\"]\n",
    "\n",
    "def verbose_chisquared( name_1, n_1, k_1, name_2, n_2, k_2 ):\n",
    "    print( name_1, \"n:\", n_1 )\n",
    "    print( name_1, \"k:\", k_1 )\n",
    "    print( name_1, \"rate:\", k_1 / n_1 )\n",
    "    print( \"-----\" )\n",
    "    \n",
    "    print( name_2, \"n:\", n_2 )\n",
    "    print( name_2, \"k:\", k_2 )\n",
    "    print( name_2, \"rate:\", k_2 / n_2 )\n",
    "    print( \"-----\" )\n",
    "    \n",
    "    combined_rate = ( k_1 + k_2 ) / ( n_1 + n_2 )\n",
    "    print( stats.chisquare( [k_1, k_2 ], [ n_1 * combined_rate, n_2 * combined_rate] ) )\n",
    "    \n",
    "def verbose_mannwhitneyu( name_1, series_1, name_2, series_2 ):\n",
    "    print( name_1, \"average:\", round( series_1.mean(), 3 ) )\n",
    "    print( name_2, \"average:\", round( series_2.mean(), 3 ) )\n",
    "    print( stats.mannwhitneyu( series_1, series_2 ) )"
   ]
  },
  {
   "cell_type": "markdown",
   "metadata": {},
   "source": [
    "# Analysis"
   ]
  },
  {
   "cell_type": "code",
   "execution_count": 9,
   "metadata": {
    "collapsed": false
   },
   "outputs": [
    {
     "name": "stdout",
     "output_type": "stream",
     "text": [
      "38493\n",
      "38365\n"
     ]
    }
   ],
   "source": [
    "split_buckets(users)\n",
    "split_buckets(editors)\n",
    "\n",
    "n_control = len( users.control )\n",
    "n_treatment = len( users.treatment )\n",
    "\n",
    "print(n_control)\n",
    "print(n_treatment)"
   ]
  },
  {
   "cell_type": "markdown",
   "metadata": {},
   "source": [
    "## Productivity"
   ]
  },
  {
   "cell_type": "markdown",
   "metadata": {},
   "source": [
    "None of the productivity variables in Aaron's original study showed anything close to a significant effect, so I'll just re-test the simplest two: (1) the total number of edits per user and (2) the proportion of users who made at least one edit."
   ]
  },
  {
   "cell_type": "code",
   "execution_count": 10,
   "metadata": {
    "collapsed": false
   },
   "outputs": [
    {
     "name": "stdout",
     "output_type": "stream",
     "text": [
      "113260.0\n",
      "104963.0\n"
     ]
    }
   ],
   "source": [
    "print(users.control[\"revs\"].sum())\n",
    "print(users.treatment[\"revs\"].sum())"
   ]
  },
  {
   "cell_type": "markdown",
   "metadata": {},
   "source": [
    "For edits per user, I use the [Mann-Whitney U test](https://en.wikipedia.org/wiki/Mann–Whitney_U_test), also know as the Wilcoxon ranked-sum test."
   ]
  },
  {
   "cell_type": "code",
   "execution_count": 11,
   "metadata": {
    "collapsed": false
   },
   "outputs": [
    {
     "name": "stdout",
     "output_type": "stream",
     "text": [
      "treatment average: 2.736\n",
      "control average: 2.942\n",
      "MannwhitneyuResult(statistic=737747609.5, pvalue=0.41702303223262732)\n"
     ]
    }
   ],
   "source": [
    "verbose_mannwhitneyu( \"treatment\", users.treatment[\"revs\"], \"control\", users.control[\"revs\"] )"
   ]
  },
  {
   "cell_type": "markdown",
   "metadata": {},
   "source": [
    "So p = 0.841 (the function returns a one-sided p value). No significance."
   ]
  },
  {
   "cell_type": "code",
   "execution_count": 12,
   "metadata": {
    "collapsed": false
   },
   "outputs": [
    {
     "data": {
      "image/png": "[encoded data removed]",
      "text/plain": [
       "<matplotlib.figure.Figure at 0x10eaa6e10>"
      ]
     },
     "metadata": {},
     "output_type": "display_data"
    }
   ],
   "source": [
    "fig, axarr = plt.subplots( 1, 1, figsize=(20,10) )\n",
    "plt.hist(users.control[\"revs\"], alpha = 0.5, range = (0, 15), log = True, bins = 15, label = \"Source editor only\")\n",
    "plt.hist(users.treatment[\"revs\"], alpha = 0.5, range = (0, 15), log = True, bins = 15, label = \"Both editors\")\n",
    "plt.legend(loc=\"upper right\")\n",
    "plt.show()"
   ]
  },
  {
   "cell_type": "code",
   "execution_count": 42,
   "metadata": {
    "collapsed": false
   },
   "outputs": [
    {
     "data": {
      "image/png": "[encoded data removed]",
      "text/plain": [
       "<matplotlib.figure.Figure at 0x110c38358>"
      ]
     },
     "metadata": {},
     "output_type": "display_data"
    }
   ],
   "source": [
    "fig, axarr = plt.subplots( 1, 1, figsize=(20,10) )\n",
    "plt.hist(editors.control[\"revs\"], alpha = 0.5, range = (1, 21), normed = 1, bins = 20, label = \"Source editor only\")\n",
    "plt.hist(editors.treatment[\"revs\"], alpha = 0.5, range = (1, 21), normed = 1, bins = 20, label = \"Both editors\")\n",
    "plt.legend(loc=\"upper right\")\n",
    "plt.show()"
   ]
  },
  {
   "cell_type": "markdown",
   "metadata": {},
   "source": [
    "For the proportion who edited at least once, I use [Pearson's chi-squared test](https://en.wikipedia.org/wiki/Pearson's_chi-squared_test)."
   ]
  },
  {
   "cell_type": "code",
   "execution_count": 13,
   "metadata": {
    "collapsed": false
   },
   "outputs": [
    {
     "name": "stdout",
     "output_type": "stream",
     "text": [
      "treatment n: 38365\n",
      "treatment k: 13343\n",
      "treatment rate: 0.34779095529779747\n",
      "-----\n",
      "control n: 38493\n",
      "control k: 13126\n",
      "control rate: 0.3409970644013197\n",
      "-----\n",
      "Power_divergenceResult(statistic=2.5752332123793669, pvalue=0.10854810298815173)\n"
     ]
    }
   ],
   "source": [
    "verbose_chisquared(\n",
    "    \"treatment\",\n",
    "    n_treatment,\n",
    "    len(editors.treatment),\n",
    "    \"control\",\n",
    "    n_control,\n",
    "    len(editors.control)\n",
    ")"
   ]
  },
  {
   "cell_type": "markdown",
   "metadata": {},
   "source": [
    "p = 0.120. Not significant, but fairly low. However, the actual difference in editing proportion (35.2% with visual editor vs 34.5% without) isn't really anything to write home about."
   ]
  },
  {
   "cell_type": "markdown",
   "metadata": {},
   "source": [
    "## Block rate\n",
    "First, let me see whether [Aaron's block-categorizing regexes](https://meta.wikimedia.org/wiki/Research_talk:VisualEditor's_effect_on_newly_registered_editors/Work_log/2015-05-28#Block_rates_and_types) cover all the blocks on these expanded set of users.\n",
    "\n",
    "```\n",
    "SELECT \n",
    "\tuser_name, \n",
    "\tlog_comment\n",
    "FROM enwiki.logging \n",
    "INNER JOIN enwiki.user \n",
    "\tON REPLACE(log_title, \"_\", \" \") = user_name \n",
    "INNER JOIN staging.ve_experiment_expanded\n",
    "\tUSING (user_id) \n",
    "WHERE\n",
    "\tlog_type = \"block\" AND\n",
    "\tlog_action = \"block\" AND\n",
    "\tlog_timestamp BETWEEN \"201505211500\" AND \"201509011503\" AND\n",
    "\tlog_comment NOT RLIKE \"(S|s)pam\" AND\n",
    "\tlog_comment NOT RLIKE \"((V|v)and|(D|d)isrupt|(U|u)w-vaublock|(A|a)bus(e|ing)|(A|a)ttack|(D|d)eliberate|NOTHERE)\" AND\n",
    "\tlog_comment NOT RLIKE \"((S|s)ock|(C|c)heckuser|(E|e)vasion)\" AND\n",
    "\tlog_comment NOT RLIKE \"softerblock|soft block\" AND\n",
    "\tlog_comment NOT RLIKE \"(U|u)w-uhblock|user\\.\\.\\.|(U|u)w-ublock\"\n",
    ";\n",
    "```\n",
    "\n",
    "```\n",
    "169 rows affected; taking 27.5 s\n",
    "```\n",
    "\n",
    "Okay, so it needs a little more work.\n",
    "\n",
    "```\n",
    "SELECT \n",
    "\tuser_name, \n",
    "\tlog_comment\n",
    "FROM enwiki.logging \n",
    "INNER JOIN enwiki.user \n",
    "\tON REPLACE(log_title, \"_\", \" \") = user_name \n",
    "INNER JOIN staging.ve_experiment_expanded\n",
    "\tUSING (user_id) \n",
    "WHERE\n",
    "log_type = \"block\" AND\n",
    "log_action = \"block\" AND\n",
    "log_timestamp BETWEEN \"201505211500\" AND \"201509011503\" AND\n",
    "log_comment NOT RLIKE # Hard username blocks\n",
    "    \"(U|u)w-u(h)?block|user...\" \n",
    "     AND\n",
    "log_comment NOT RLIKE # Soft username blocks\n",
    "    \"(U|u)ser(\\\\s)?name|soft(er|est)?(\\\\s)?block|botublock|causeblock|organization|one person\" \n",
    "     AND\n",
    "log_comment NOT RLIKE # Spam\n",
    "    \"(S|s)pam|(A|a)dvertising|(P|p)romotional\" \n",
    "    AND\n",
    "log_comment NOT RLIKE # Obvious abuse\n",
    "    \"(V|v)and|(D|d)isrupt|(U|u)w-vaublock|(A|a)bus(e|ing)|(A|a)ttack|(D|d)eliberate|NOTHERE|not here|LTA|(T|t)roll|(H|h)arassment|(P|p)atent nonsense|(I|i)nsult\" \n",
    "     AND\n",
    "log_comment NOT RLIKE # Policy violation\n",
    "\t\"(C|c)opyright|(B|b)iographies|BLP|POV|(W|w)arring|(T|t)hree-revert|(U|u)nsourced|(L|l)egal threat\"\n",
    "    AND\n",
    "log_comment NOT RLIKE # Sockpuppetry\n",
    "\t\"SOCK|(S|s)ock|(C|c)heck(U|u)ser|(E|e)va(de|sion)|(M|m)eatpuppet\"\n",
    ";\n",
    "```\n",
    "\n",
    "```\n",
    "39 rows affected, taking 13.0 s\n",
    "```\n",
    "\n",
    "That's better; the only blocks left are ones whose comments are miscellaneous (\"Persistent use of Wikipedia as a social media network\", \"As per [[User:CURRENT RESEARCH IN CHEMISTRY AND PHARMACEUTICAL SCIENCES-INTERNATIONAL JOURNAL]]\", \"You have been blocked for testing purposes\"), nonspecific (\"Please see your talk page for a full explanation\", \"so many possible reasons; pick your favourite!\", \"No thanks.\"), or empty. I'm not going to include the full list because some of the usernames are thoroughly toxic.\n",
    "\n",
    "*What about accounts blocked multiple times? for example, https://en.wikipedia.org/w/index.php?title=Special:Log/block&page=Majorwith?*\n",
    "\n",
    "Some block comments match multiple regexes (e.g. `{{uw-spamublock}} <!-- Promotional username, promotional edits -->: <!-- see also: [[User:Wiz vlogging and gaming]] -->` would match both spam and username regexes. However in the select statement, the block will match at most one—preferring the first in the query."
   ]
  },
  {
   "cell_type": "markdown",
   "metadata": {},
   "source": [
    "Now, let's get all these blocks categorized as above.\n",
    "```\n",
    "mysql -h analytics-store.eqiad.wmnet -u research -e \"\n",
    "SELECT\n",
    "\tuser_id,\n",
    "\tbucket,\n",
    "\tIF( log_comment RLIKE\n",
    "   \t\t\"(U|u)w-u(h)?block|user...\", \n",
    "   \t\t\"hard username\",\n",
    "\tIF( log_comment RLIKE\n",
    "    \t\"(U|u)ser(\\\\s)?name|soft(er|est)?(\\\\s)?block|botublock|causeblock|organization|one person\",\n",
    "    \t\"soft username\",\n",
    "    IF( log_comment RLIKE \n",
    "\t\t\"(S|s)pam|(A|a)dvertising|(P|p)romotional\",\n",
    "\t\t\"spam\",\n",
    "\tIF( log_comment RLIKE\n",
    "    \t\"(V|v)and|(D|d)isrupt|(U|u)w-vaublock|(A|a)bus(e|ing)|(A|a)ttack|(D|d)eliberate|NOTHERE|not here|LTA|(T|t)roll|(H|h)arassment|(P|p)atent nonsense|(I|i)nsult\",\n",
    "    \t\"abuse\", \n",
    "    IF( log_comment RLIKE\n",
    "    \t\"(C|c)opyright|(B|b)iographies|BLP|POV|(W|w)arring|(T|t)hree-revert|(U|u)nsourced|(L|l)egal threat\",\n",
    "\t\t\"policy violation\",\n",
    "\tIF( log_comment RLIKE\n",
    "\t\t\"SOCK|(S|s)ock|(C|c)heck(U|u)ser|(E|e)va(de|sion)|(M|m)eatpuppet\",\n",
    "\t\t\"sockpuppetry\",\n",
    "\t\"other\"\n",
    "\t) ) ) ) ) ) AS \"block reason\"\n",
    "FROM enwiki.logging \n",
    "INNER JOIN enwiki.user \n",
    "\tON REPLACE(log_title, \"_\", \" \") = user_name \n",
    "INNER JOIN staging.ve_experiment_expanded\n",
    "\tUSING (user_id)\n",
    "WHERE \n",
    "\tlog_type = \"block\" AND \n",
    "\tlog_action = \"block\" AND \n",
    "\tlog_timestamp BETWEEN \"201505211500\" AND \"201509011503\"\n",
    ";\" > ~/VE_experiment_block.tsv\n",
    "```"
   ]
  },
  {
   "cell_type": "code",
   "execution_count": 14,
   "metadata": {
    "collapsed": false
   },
   "outputs": [
    {
     "data": {
      "text/html": [
       "<div>\n",
       "<table border=\"1\" class=\"dataframe\">\n",
       "  <thead>\n",
       "    <tr style=\"text-align: right;\">\n",
       "      <th></th>\n",
       "      <th>user_id</th>\n",
       "      <th>bucket</th>\n",
       "      <th>timestamp</th>\n",
       "      <th>block reason</th>\n",
       "    </tr>\n",
       "  </thead>\n",
       "  <tbody>\n",
       "    <tr>\n",
       "      <th>4065</th>\n",
       "      <td>26144652</td>\n",
       "      <td>treatment</td>\n",
       "      <td>20150901134816</td>\n",
       "      <td>spam</td>\n",
       "    </tr>\n",
       "    <tr>\n",
       "      <th>4066</th>\n",
       "      <td>26141638</td>\n",
       "      <td>treatment</td>\n",
       "      <td>20150901134936</td>\n",
       "      <td>spam</td>\n",
       "    </tr>\n",
       "    <tr>\n",
       "      <th>4067</th>\n",
       "      <td>26144368</td>\n",
       "      <td>treatment</td>\n",
       "      <td>20150901135014</td>\n",
       "      <td>spam</td>\n",
       "    </tr>\n",
       "    <tr>\n",
       "      <th>4068</th>\n",
       "      <td>25336587</td>\n",
       "      <td>control</td>\n",
       "      <td>20150901140413</td>\n",
       "      <td>policy violation</td>\n",
       "    </tr>\n",
       "    <tr>\n",
       "      <th>4069</th>\n",
       "      <td>26147382</td>\n",
       "      <td>treatment</td>\n",
       "      <td>20150901142955</td>\n",
       "      <td>hard username</td>\n",
       "    </tr>\n",
       "  </tbody>\n",
       "</table>\n",
       "</div>"
      ],
      "text/plain": [
       "       user_id     bucket       timestamp      block reason\n",
       "4065  26144652  treatment  20150901134816              spam\n",
       "4066  26141638  treatment  20150901134936              spam\n",
       "4067  26144368  treatment  20150901135014              spam\n",
       "4068  25336587    control  20150901140413  policy violation\n",
       "4069  26147382  treatment  20150901142955     hard username"
      ]
     },
     "execution_count": 14,
     "metadata": {},
     "output_type": "execute_result"
    }
   ],
   "source": [
    "blocks = pd.read_table( \"./VE_experiment_blocks.tsv\" )\n",
    "\n",
    "blocks.tail()"
   ]
  },
  {
   "cell_type": "code",
   "execution_count": 15,
   "metadata": {
    "collapsed": false
   },
   "outputs": [
    {
     "name": "stdout",
     "output_type": "stream",
     "text": [
      "blocked\n",
      "0.0    73485\n",
      "1.0     3362\n",
      "2.0       10\n",
      "3.0        1\n",
      "dtype: int64\n",
      "block reason\n",
      "abuse               1399\n",
      "hard username       1482\n",
      "other                 39\n",
      "policy violation      49\n",
      "sockpuppetry         230\n",
      "soft username        219\n",
      "spam                 652\n",
      "dtype: int64\n"
     ]
    }
   ],
   "source": [
    "blocks_by_user = blocks.groupby( \"user_id\" ).size().to_frame().reset_index()\n",
    "\n",
    "blocks_by_user.rename( columns = { 0: \"blocked\" }, inplace = True )\n",
    "\n",
    "users = pd.merge( users, blocks_by_user, on=\"user_id\", how=\"left\" )\n",
    "\n",
    "users[ \"blocked\" ].fillna( 0, inplace = True )\n",
    "\n",
    "print( users.groupby( \"blocked\" ).size() )\n",
    "\n",
    "print( blocks.groupby( \"block reason\" ).size() )"
   ]
  },
  {
   "cell_type": "markdown",
   "metadata": {},
   "source": [
    "Only 11 users were blocked multiple times, so it seems fair to just reduce it to a boolean reflecting whether the user was ever blocked."
   ]
  },
  {
   "cell_type": "code",
   "execution_count": 16,
   "metadata": {
    "collapsed": false
   },
   "outputs": [],
   "source": [
    "users.at[ users[ \"blocked\"] > 1, \"blocked\" ] = 1"
   ]
  },
  {
   "cell_type": "code",
   "execution_count": 18,
   "metadata": {
    "collapsed": false
   },
   "outputs": [
    {
     "name": "stdout",
     "output_type": "stream",
     "text": [
      "VE n: 38365\n",
      "VE k: 1687.0\n",
      "VE rate: 0.0439723706503\n",
      "-----\n",
      "control n: 38493\n",
      "control k: 1686.0\n",
      "control rate: 0.0438001714597\n",
      "-----\n",
      "Power_divergenceResult(statistic=0.012982634558350057, pvalue=0.90928427489137398)\n"
     ]
    }
   ],
   "source": [
    "split_buckets(users)\n",
    "\n",
    "verbose_chisquared(\n",
    "    \"VE\",\n",
    "    n_treatment,\n",
    "    users.treatment[\"blocked\"].sum(),\n",
    "    \"control\",\n",
    "    n_control,\n",
    "    users.control[\"blocked\"].sum()\n",
    ")"
   ]
  },
  {
   "cell_type": "markdown",
   "metadata": {},
   "source": [
    "So the visual editor make no difference when it came to blocks. This makes sense; there's no reason that making it easier to edit would drive away bad-faith actors."
   ]
  },
  {
   "cell_type": "markdown",
   "metadata": {},
   "source": [
    "## Revert rate\n",
    "To calculate the revert rate, I use Aaron's script [python-mwmetrics](https://github.com/mediawiki-utilities/python-mwmetrics). By default, it checks for reverts in the next 48 hours and 15 edits, whichever is less, after the edit in question. The [revert checking](https://github.com/mediawiki-utilities/python-mediawiki-utilities/blob/3edd1cc3754e71f8f77ba4c53c406934818d6b99/mw/lib/reverts/database.py) uses hashes. If an edit within the follow-up window has the same hash as one of edit's close parents, it's considered to have been reverted.\n",
    "\n",
    "I [tweaked the script](https://github.com/neilpquinn/hacky-mwrevert-detector/blob/3c10fb9e5a0b4357a43ae267c105b9f9eb797f67/mwmetrics/utilities/new_users.py) to look for reverts across the users' first sixty days.\n",
    "\n",
    "I had to exclude one user from the cohort (ID 26048397) because of a [strange inconsistency](https://lists.wikimedia.org/pipermail/analytics/2015-December/004697.html) between database tables.\n",
    "\n",
    "First, since the detector finds only reverts in the main namespace, I want to know the number of edits each user made in that namespace."
   ]
  },
  {
   "cell_type": "code",
   "execution_count": 29,
   "metadata": {
    "collapsed": false
   },
   "outputs": [
    {
     "data": {
      "text/html": [
       "<div>\n",
       "<table border=\"1\" class=\"dataframe\">\n",
       "  <thead>\n",
       "    <tr style=\"text-align: right;\">\n",
       "      <th></th>\n",
       "      <th>user_id</th>\n",
       "      <th>registration</th>\n",
       "      <th>bucket</th>\n",
       "      <th>mobile_registered</th>\n",
       "      <th>revs</th>\n",
       "      <th>reverted_content_revisions</th>\n",
       "      <th>content_revs</th>\n",
       "    </tr>\n",
       "  </thead>\n",
       "  <tbody>\n",
       "    <tr>\n",
       "      <th>26464</th>\n",
       "      <td>26149175</td>\n",
       "      <td>20150901145833</td>\n",
       "      <td>control</td>\n",
       "      <td>False</td>\n",
       "      <td>5.0</td>\n",
       "      <td>0</td>\n",
       "      <td>2.0</td>\n",
       "    </tr>\n",
       "    <tr>\n",
       "      <th>26465</th>\n",
       "      <td>26149183</td>\n",
       "      <td>20150901145939</td>\n",
       "      <td>control</td>\n",
       "      <td>False</td>\n",
       "      <td>2.0</td>\n",
       "      <td>0</td>\n",
       "      <td>2.0</td>\n",
       "    </tr>\n",
       "    <tr>\n",
       "      <th>26466</th>\n",
       "      <td>26149189</td>\n",
       "      <td>20150901150026</td>\n",
       "      <td>control</td>\n",
       "      <td>False</td>\n",
       "      <td>16.0</td>\n",
       "      <td>0</td>\n",
       "      <td>15.0</td>\n",
       "    </tr>\n",
       "    <tr>\n",
       "      <th>26467</th>\n",
       "      <td>26149195</td>\n",
       "      <td>20150901150055</td>\n",
       "      <td>control</td>\n",
       "      <td>False</td>\n",
       "      <td>2.0</td>\n",
       "      <td>0</td>\n",
       "      <td>2.0</td>\n",
       "    </tr>\n",
       "    <tr>\n",
       "      <th>26468</th>\n",
       "      <td>26149211</td>\n",
       "      <td>20150901150252</td>\n",
       "      <td>control</td>\n",
       "      <td>False</td>\n",
       "      <td>2.0</td>\n",
       "      <td>0</td>\n",
       "      <td>2.0</td>\n",
       "    </tr>\n",
       "  </tbody>\n",
       "</table>\n",
       "</div>"
      ],
      "text/plain": [
       "        user_id    registration   bucket mobile_registered  revs  \\\n",
       "26464  26149175  20150901145833  control             False   5.0   \n",
       "26465  26149183  20150901145939  control             False   2.0   \n",
       "26466  26149189  20150901150026  control             False  16.0   \n",
       "26467  26149195  20150901150055  control             False   2.0   \n",
       "26468  26149211  20150901150252  control             False   2.0   \n",
       "\n",
       "       reverted_content_revisions  content_revs  \n",
       "26464                           0           2.0  \n",
       "26465                           0           2.0  \n",
       "26466                           0          15.0  \n",
       "26467                           0           2.0  \n",
       "26468                           0           2.0  "
      ]
     },
     "execution_count": 29,
     "metadata": {},
     "output_type": "execute_result"
    }
   ],
   "source": [
    "# Many namespaces are NULL because the page had subsequently been deleted. To be conservative,\n",
    "# I'm treating them as main namespace edits. \n",
    "def convert_null(value):\n",
    "    if value == \"NULL\":\n",
    "        return 0\n",
    "    else:\n",
    "        return int(value)\n",
    "    \n",
    "ns_revs = pd.read_table( \"./VE_experiment_revs_namespace.tsv\", \n",
    "            dtype = {\"rev_id\": int, \"namespace\": int},\n",
    "            converters = {\"namespace\": convert_null}  )\n",
    "\n",
    "main_ns_revs = ns_revs[ns_revs[\"namespace\"] == 0 ]\n",
    "\n",
    "main_ns_revs = pd.merge( revs, main_ns_revs, on = \"rev_id\", how = \"inner\" )\n",
    "\n",
    "main_revs_by_user = main_ns_revs.groupby( \"user_id\" )[ \"rev_id\" ].size().to_frame().reset_index()\n",
    "\n",
    "main_revs_by_user.rename( columns = { 0: \"content_revs\" }, inplace = True )\n",
    "\n",
    "editors = pd.merge( editors, main_revs_by_user, on = \"user_id\", how = \"left\" )\n",
    "\n",
    "editors.fillna( 0, inplace = True )\n",
    "\n",
    "editors.tail()"
   ]
  },
  {
   "cell_type": "code",
   "execution_count": 33,
   "metadata": {
    "collapsed": false
   },
   "outputs": [],
   "source": [
    "reverts = pd.read_table( \"./VE_experiment_reverts.tsv\" )\n",
    "reverts.drop(\"user_registration\", axis = 1, inplace = True )\n",
    "\n",
    "editors = pd.merge( editors, reverts, on = \"user_id\", how = \"left\" )\n",
    "\n",
    "split_buckets(editors)"
   ]
  },
  {
   "cell_type": "code",
   "execution_count": 34,
   "metadata": {
    "collapsed": false,
    "scrolled": false
   },
   "outputs": [
    {
     "name": "stdout",
     "output_type": "stream",
     "text": [
      "average treatment edits: 5.43\n",
      "average control edits: 5.91\n",
      "Reverts:\n",
      "VE average: 0.828\n",
      "control average: 0.991\n",
      "MannwhitneyuResult(statistic=85926513.0, pvalue=0.0040913422223638387)\n"
     ]
    }
   ],
   "source": [
    "print( \"average treatment edits:\", round( editors.treatment[\"content_revs\"].mean(), 2) )\n",
    "print( \"average control edits:\", round( editors.control[\"content_revs\"].mean(), 2) )\n",
    "\n",
    "print(\"Reverts:\")\n",
    "verbose_mannwhitneyu(\n",
    "    \"VE\", \n",
    "    editors.treatment[\"reverted_content_revisions\"],\n",
    "    \"control\",\n",
    "    editors.control[\"reverted_content_revisions\"]\n",
    ")"
   ]
  },
  {
   "cell_type": "markdown",
   "metadata": {},
   "source": [
    "Wow, that is significant, even at a stringent p = 0.01 level."
   ]
  },
  {
   "cell_type": "code",
   "execution_count": 38,
   "metadata": {
    "collapsed": false
   },
   "outputs": [
    {
     "name": "stdout",
     "output_type": "stream",
     "text": [
      "VE average: 0.218\n",
      "control average: 0.223\n",
      "MannwhitneyuResult(statistic=86605768.5, pvalue=0.06038896316585847)\n"
     ]
    }
   ],
   "source": [
    "editors.loc[:, \"proportion_reverted\"] = editors[\"reverted_content_revisions\"] / editors[\"revs\"]\n",
    "\n",
    "editors.fillna(value = 0, inplace = True)\n",
    "\n",
    "split_buckets(editors)\n",
    "\n",
    "verbose_mannwhitneyu(\n",
    "    \"VE\",\n",
    "    editors.treatment[\"proportion_reverted\"],\n",
    "    \"control\",\n",
    "    editors.control[\"proportion_reverted\"]\n",
    ")"
   ]
  },
  {
   "cell_type": "code",
   "execution_count": 43,
   "metadata": {
    "collapsed": false
   },
   "outputs": [
    {
     "data": {
      "image/png": "[encoded data removed]",
      "text/plain": [
       "<matplotlib.figure.Figure at 0x10fecc5f8>"
      ]
     },
     "metadata": {},
     "output_type": "display_data"
    }
   ],
   "source": [
    "fig, axarr = plt.subplots( 1, 1, figsize=(20,10) )\n",
    "plt.hist(editors.control[\"reverted_content_revisions\"], log = True, alpha = 0.5, range = (0, 20), normed = 1, bins = 20, label = \"Source editor only\")\n",
    "plt.hist(editors.treatment[\"reverted_content_revisions\"], log = True, alpha = 0.5, range = (0, 20), normed = 1, bins = 20, label = \"Both editors\")\n",
    "plt.legend(loc=\"upper right\")\n",
    "plt.show()"
   ]
  },
  {
   "cell_type": "code",
   "execution_count": 44,
   "metadata": {
    "collapsed": false
   },
   "outputs": [
    {
     "data": {
      "image/png": "[encoded data removed]",
      "text/plain": [
       "<matplotlib.figure.Figure at 0x10cb9d7f0>"
      ]
     },
     "metadata": {},
     "output_type": "display_data"
    }
   ],
   "source": [
    "fig, axarr = plt.subplots( 1, 1, figsize=(20,10) )\n",
    "plt.hist(editors.control[\"proportion_reverted\"], alpha = 0.5, range = (0, 1), bins = 20, label = \"Source editor only\")\n",
    "plt.hist(editors.treatment[\"proportion_reverted\"], alpha = 0.5, range = (0, 1), bins = 20, label = \"Both editors\")\n",
    "plt.legend(loc=\"upper right\")\n",
    "plt.show()"
   ]
  },
  {
   "cell_type": "markdown",
   "metadata": {},
   "source": [
    "## Long-term survival"
   ]
  },
  {
   "cell_type": "markdown",
   "metadata": {},
   "source": [
    "Proportion who made at least one edit more than a month after registering.\n",
    "Chi squared test."
   ]
  },
  {
   "cell_type": "code",
   "execution_count": 71,
   "metadata": {
    "collapsed": false
   },
   "outputs": [
    {
     "name": "stdout",
     "output_type": "stream",
     "text": [
      "treatment n: 38365\n",
      "treatment k: 1100\n",
      "treatment rate: 0.028671966636257006\n",
      "-----\n",
      "control n: 38493\n",
      "control k: 1081\n",
      "control rate: 0.028083028083028084\n",
      "-----\n",
      "Power_divergenceResult(statistic=0.23485578752524316, pvalue=0.62794647801854031)\n"
     ]
    },
    {
     "name": "stderr",
     "output_type": "stream",
     "text": [
      "/Applications/Miniconda/lib/python3.5/site-packages/ipykernel/__main__.py:15: UserWarning: Boolean Series key will be reindexed to match DataFrame index.\n",
      "/Applications/Miniconda/lib/python3.5/site-packages/ipykernel/__main__.py:18: UserWarning: Boolean Series key will be reindexed to match DataFrame index.\n"
     ]
    }
   ],
   "source": [
    "month = dt.timedelta( days = 30 )\n",
    "survived_revs = revs[ revs[\"rev_timestamp\"] > ( revs[\"registration\"] + month ) ]\n",
    "\n",
    "survivors = pd.DataFrame( survived_revs[ \"user_id\" ].unique() )\n",
    "survivors.rename( columns = { 0: \"user_id\" }, inplace=True )\n",
    "survivors.loc[ :, \"survived\" ] = True\n",
    "\n",
    "survival = pd.merge( users, survivors, on=\"user_id\", how=\"left\" )\n",
    "\n",
    "split_buckets(survival)\n",
    "    \n",
    "verbose_chisquared(\n",
    "    \"treatment\",\n",
    "    n_treatment, \n",
    "    len(survival.treatment[survival[\"survived\"] == True]),\n",
    "    \"control\",\n",
    "    n_control,\n",
    "    len(survival.control[survival[\"survived\"] == True ])\n",
    ")"
   ]
  },
  {
   "cell_type": "markdown",
   "metadata": {},
   "source": [
    "That's disappointing, particularly considering that a promising resulting on this test was my main motivation for doing this follow-up. But clearly, there's nothing here."
   ]
  },
  {
   "cell_type": "markdown",
   "metadata": {},
   "source": [
    "## Long-term survival filtered ##"
   ]
  },
  {
   "cell_type": "markdown",
   "metadata": {},
   "source": [
    "Just to see what happens, let's see how it looks if we filter out all the users who never made an edit before checking survival. The fact that there's no significant difference in the rate of any editing means we're not introducing a new bias here."
   ]
  },
  {
   "cell_type": "code",
   "execution_count": 76,
   "metadata": {
    "collapsed": false
   },
   "outputs": [
    {
     "name": "stdout",
     "output_type": "stream",
     "text": [
      "treatment n: 13343\n",
      "treatment k: 303\n",
      "treatment rate: 0.0227085363111744\n",
      "-----\n",
      "control n: 13126\n",
      "control k: 294\n",
      "control rate: 0.022398293463355173\n",
      "-----\n",
      "Power_divergenceResult(statistic=0.028236776179406321, pvalue=0.8665533686599507)\n"
     ]
    },
    {
     "name": "stderr",
     "output_type": "stream",
     "text": [
      "/Applications/Miniconda/lib/python3.5/site-packages/ipykernel/__main__.py:8: UserWarning: Boolean Series key will be reindexed to match DataFrame index.\n",
      "/Applications/Miniconda/lib/python3.5/site-packages/ipykernel/__main__.py:11: UserWarning: Boolean Series key will be reindexed to match DataFrame index.\n"
     ]
    }
   ],
   "source": [
    "editors_survival = pd.merge( editors, survivors, on=\"user_id\", how=\"left\" )\n",
    "split_buckets(editors_survival)\n",
    "split_buckets(editors)\n",
    "\n",
    "verbose_chisquared(\n",
    "    \"treatment\",\n",
    "    len(editors.treatment),\n",
    "    len(editors_survival.treatment[survival[\"survived\"] == True]),\n",
    "    \"control\",\n",
    "    len(editors.control),\n",
    "    len(editors_survival.control[survival[\"survived\"] == True])\n",
    ")"
   ]
  },
  {
   "cell_type": "markdown",
   "metadata": {
    "collapsed": true
   },
   "source": [
    "Wow, even farther from significant than before. As I said, nothing here."
   ]
  }
 ],
 "metadata": {
  "kernelspec": {
   "display_name": "Python 3",
   "language": "python",
   "name": "python3"
  },
  "language_info": {
   "codemirror_mode": {
    "name": "ipython",
    "version": 3
   },
   "file_extension": ".py",
   "mimetype": "text/x-python",
   "name": "python",
   "nbconvert_exporter": "python",
   "pygments_lexer": "ipython3",
   "version": "3.5.1"
  }
 },
 "nbformat": 4,
 "nbformat_minor": 0
}
