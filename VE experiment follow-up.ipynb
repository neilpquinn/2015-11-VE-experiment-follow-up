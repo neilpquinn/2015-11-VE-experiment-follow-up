{
 "cells": [
  {
   "cell_type": "markdown",
   "metadata": {},
   "source": [
    "# Summary #\n",
    "\n",
    "**Note: This notebook is a draft (and I can't promise when I'll fix that), so it may be incomplete in places. If you have questions, feel free to ask on [my talk page](https://meta.wikimedia.org/wiki/User_talk:Neil_P._Quinn-WMF).**"
   ]
  },
  {
   "cell_type": "markdown",
   "metadata": {},
   "source": [
    "## History ##\n",
    "First a little history. \n",
    "\n",
    "This analysis follows up on the work done by Aaron Halfaker in his [May 2015 visual editor experiment](https://meta.wikimedia.org/wiki/Research:VisualEditor's_effect_on_newly_registered_editors/May_2015_study). In that study, all the new accounts created on the English Wikipedia during one week [were divided evenly](https://meta.wikimedia.org/wiki/Research_talk:VisualEditor's_effect_on_newly_registered_editors/Work_log/2015-06-05) between a treatment group which was automatically offered the new visual editor alongside the existing wikitext editor and control group which was not.\n",
    "\n",
    "That experiment helped win the English Wikipedia community's consent to start giving the visual editor to new users automatically. \n",
    "\n",
    "In turn, I am expanding Aaron's original cohort by looking at data for the incremental rollout to new editors. We started by giving the visual editor to 5% of new users, then 10%, then 25%, and so on up to 100%, where the level remains. Since we applied each percentage randomly, we can incorporate some of those users into the treatment and control groups. \n",
    "\n",
    "In addition, Aaron investigated the users for a week after their registration. I am expanding that to 60 days after their registration.\n",
    "\n",
    "When I originally performed the follow-up with the original cohort, most of the results were fairly ho-hum, but I did find one intriguing effect: the visual editor group had a higher proportion of accounts who survived to make at least one edit more than 30 days after editing."
   ]
  },
  {
   "cell_type": "markdown",
   "metadata": {},
   "source": [
    "## Current issues ##\n",
    "In discussion of reverts, I'm comparing reverted main edits to all edits—shouldn't have much effect but would be better to get straight."
   ]
  },
  {
   "cell_type": "markdown",
   "metadata": {},
   "source": [
    "# Cohort\n",
    "In all of these stages, we determined whether to offer the user the visual editor by checking the modulus of their user ID ([code for the experiment](https://gerrit.wikimedia.org/r/#/c/68845/4/VisualEditor.hooks.php), [code for the incremental rollout](https://github.com/wikimedia/mediawiki-extensions-VisualEditor/blob/b550323b534b59622afefdf9bf9fbc23f177f46f/VisualEditor.hooks.php#L766)). In both cases, when the VE was being offered to users at x% = (1 / y ), a user got VE if ( userID % y = 0 ). Where the VE users and control users were not evenly matched, our matched control will be users where ( userID % y  = 1).\n",
    "\n",
    "Our groups will *not* be perfectly matched, because many of the new accounts generated at the English Wikipedia are autocreated when users with accounts on other Wikimedia projects browse over to the English Wikipedia, not when users on the English Wikipedia click the \"create account\" button. Our cohort only includes the second group, because users who already have accounts on other projects are likely to behave quite differently.\n",
    "\n",
    "This means that our list of newly created accounts will have random gaps where autocreated accounts used up the IDs. Since they're distributed randomly, this shouldn't affect our analysis.\n",
    "\n",
    "The detailed schedule of these stages is [here](https://www.mediawiki.org/w/index.php?title=VisualEditor/Rollouts/English_Wikipedia&oldid=1934590)."
   ]
  },
  {
   "cell_type": "markdown",
   "metadata": {
    "collapsed": true
   },
   "source": [
    "First, we create a table to hold the users.\n",
    "\n",
    "```\n",
    "CREATE TABLE `ve_experiment_expanded` (\n",
    "  `user_id` INT NOT NULL,\n",
    "  `registration` VARBINARY(14) NOT NULL,\n",
    "  `bucket` ENUM(\"treatment\", \"control\") NOT NULL,\n",
    "  `mobile_registered` BOOLEAN DEFAULT NULL,\n",
    "  PRIMARY KEY (`user_id`)\n",
    ");\n",
    "```\n",
    "\n",
    "## Pilot ##\n",
    "\n",
    "```\n",
    "INSERT INTO staging.ve_experiment_expanded\n",
    "SELECT \n",
    "    event_userId AS user_id, \n",
    "    timestamp AS registration,\n",
    "    CASE\n",
    "        WHEN event_userId % 2 = 0 THEN \"treatment\"\n",
    "        WHEN event_userId % 2 = 1 THEN \"control\"\n",
    "    END AS bucket,\n",
    "    IF( ( event_displayMobile OR NOT event_isSelfMade ), 1, 0 ) AS mobile_registered\n",
    "FROM ServerSideAccountCreation_5487345\n",
    "WHERE\n",
    "    timestamp >= \"201505211500\" AND\n",
    "    timestamp <  \"201505221501\" AND\n",
    "    wiki = \"enwiki\" AND\n",
    "    ( event_userId % 2 =  0 || event_userId % 2 = 1 )\n",
    ";\n",
    "```\n",
    "\n",
    "## Experiment ##\n",
    "```\n",
    "INSERT INTO staging.ve_experiment_expanded\n",
    "SELECT \n",
    "    event_userId AS user_id, \n",
    "    timestamp AS registration,\n",
    "    CASE\n",
    "        WHEN event_userId % 2 = 0 THEN \"treatment\"\n",
    "        WHEN event_userId % 2 = 1 THEN \"control\"\n",
    "    END AS bucket,\n",
    "    IF( ( event_displayMobile OR NOT event_isSelfMade ), 1, 0 ) AS mobile_registered\n",
    "FROM ServerSideAccountCreation_5487345\n",
    "WHERE\n",
    "    timestamp >= \"201505282304\" AND\n",
    "    timestamp <  \"201506042328\" AND\n",
    "    wiki = \"enwiki\" AND\n",
    "    ( event_userId % 2 =  0 || event_userId % 2 = 1 )\n",
    ";\n",
    "```\n",
    "\n",
    "## 5% rollout ##\n",
    "```\n",
    "INSERT INTO staging.ve_experiment_expanded\n",
    "SELECT \n",
    "    event_userId AS user_id, \n",
    "    timestamp AS registration,\n",
    "    CASE\n",
    "        WHEN event_userId % 20 = 0 THEN \"treatment\"\n",
    "        WHEN event_userId % 20 = 1 THEN \"control\"\n",
    "    END AS bucket,\n",
    "    IF( ( event_displayMobile OR NOT event_isSelfMade ), 1, 0 ) AS mobile_registered\n",
    "FROM ServerSideAccountCreation_5487345\n",
    "WHERE\n",
    "    timestamp >= \"201507281503\" AND\n",
    "    timestamp <  \"201508041513\" AND\n",
    "    wiki = \"enwiki\" AND\n",
    "    ( event_userId % 20 =  0 || event_userId % 20 = 1 )\n",
    ";\n",
    "```\n",
    "\n",
    "## 10% rollout ##\n",
    "```\n",
    "INSERT INTO staging.ve_experiment_expanded\n",
    "SELECT \n",
    "    event_userId AS user_id, \n",
    "    timestamp AS registration,\n",
    "    CASE\n",
    "        WHEN event_userId % 10 = 0 THEN \"treatment\"\n",
    "        WHEN event_userId % 10 = 1 THEN \"control\"\n",
    "    END AS bucket,\n",
    "    IF( ( event_displayMobile OR NOT event_isSelfMade ), 1, 0 ) AS mobile_registered\n",
    "FROM ServerSideAccountCreation_5487345\n",
    "WHERE\n",
    "    timestamp >= \"201508041513\" AND\n",
    "    timestamp <  \"201508132303\" AND\n",
    "    wiki = \"enwiki\" AND\n",
    "    ( event_userId % 10 =  0 || event_userId % 10 = 1 )\n",
    ";\n",
    "```\n",
    "\n",
    "## 25% rollout ##\n",
    "```\n",
    "INSERT INTO staging.ve_experiment_expanded\n",
    "SELECT \n",
    "    event_userId AS user_id, \n",
    "    timestamp AS registration,\n",
    "    CASE\n",
    "        WHEN event_userId % 4 = 0 THEN \"treatment\"\n",
    "        WHEN event_userId % 4 = 1 THEN \"control\"\n",
    "    END AS bucket,\n",
    "    IF( ( event_displayMobile OR NOT event_isSelfMade ), 1, 0 ) AS mobile_registered\n",
    "FROM ServerSideAccountCreation_5487345\n",
    "WHERE\n",
    "    timestamp >= \"201508132303\" AND\n",
    "    timestamp <  \"201508201525\" AND\n",
    "    wiki = \"enwiki\" AND\n",
    "    ( event_userId % 4 =  0 || event_userId % 4 = 1 )\n",
    ";\n",
    "```\n",
    "\n",
    "## 50% rollout ##\n",
    "```\n",
    "INSERT INTO staging.ve_experiment_expanded\n",
    "SELECT \n",
    "    event_userId AS user_id, \n",
    "    timestamp AS registration,\n",
    "    CASE\n",
    "        WHEN event_userId % 2 = 0 THEN \"treatment\"\n",
    "        WHEN event_userId % 2 = 1 THEN \"control\"\n",
    "    END AS bucket,\n",
    "    IF( ( event_displayMobile OR NOT event_isSelfMade ), 1, 0 ) AS mobile_registered\n",
    "FROM ServerSideAccountCreation_5487345\n",
    "WHERE\n",
    "    timestamp >= \"201508201525\" AND\n",
    "    timestamp <  \"201509011503\" AND\n",
    "    wiki = \"enwiki\" AND\n",
    "    ( event_userId % 2 =  0 || event_userId % 2 = 1 )\n",
    ";\n",
    "```"
   ]
  },
  {
   "cell_type": "code",
   "execution_count": 64,
   "metadata": {
    "collapsed": true
   },
   "outputs": [],
   "source": [
    "%matplotlib inline\n",
    "\n",
    "import pandas as pd\n",
    "import scipy.stats as stats\n",
    "import matplotlib.pyplot as plt\n",
    "import math"
   ]
  },
  {
   "cell_type": "markdown",
   "metadata": {},
   "source": [
    "# Data"
   ]
  },
  {
   "cell_type": "markdown",
   "metadata": {},
   "source": [
    "```\n",
    "mysql -h analytics-store.eqiad.wmnet -u research -e \"\n",
    "SELECT\n",
    "    user_id,\n",
    "    registration,\n",
    "    bucket,\n",
    "    mobile_registered\n",
    "FROM staging.ve_experiment_expanded\n",
    ";\" > ~/VE_experiment_cohort.tsv\n",
    "```\n",
    "\n",
    "Then, I generate a dataset of all the edits made by accounts from the experiment in our time period. This is based on [Aaron's code](https://github.com/halfak/VE_newcomers_May_2015/blob/master/sql/experimental_user_revision_stats.sql).\n",
    "\n",
    "```\n",
    "mysql -h analytics-store.eqiad.wmnet -u research -e \"\n",
    "SELECT\n",
    "    user_id,\n",
    "    current.rev_id AS rev_id,\n",
    "    current.rev_timestamp AS rev_timestamp,\n",
    "    ct_tag IS NOT NULL AS ve_used,\n",
    "    CAST(current.rev_len AS INT) -\n",
    "        CAST(IFNULL(parent.rev_len, 0) AS INT) as change_in_bytes\n",
    "FROM staging.ve_experiment_expanded\n",
    "INNER JOIN enwiki.revision current\n",
    "    ON user_id = current.rev_user\n",
    "LEFT JOIN enwiki.revision parent\n",
    "    ON parent.rev_id = current.rev_parent_id\n",
    "LEFT JOIN enwiki.change_tag  \n",
    "    ON ct_rev_id = current.rev_id AND\n",
    "    ct_tag = 'visualeditor'\n",
    "WHERE\n",
    "    current.rev_timestamp BETWEEN\n",
    "       '20150521150000' AND\n",
    "        DATE_FORMAT( DATE_ADD( '20150901150300', INTERVAL 60 DAY ), '%Y%m%d%H%i%S' ) AND\n",
    "    current.rev_timestamp BETWEEN \n",
    "        registration AND\n",
    "        DATE_FORMAT( DATE_ADD( registration, INTERVAL 60 DAY ), '%Y%m%d%H%i%S' )\n",
    ";\" > ~/VE_experiment_revs.tsv\n",
    "```\n",
    "\n",
    "The where clause limits it to revisions made after the first registration but within 60 days after the last."
   ]
  },
  {
   "cell_type": "markdown",
   "metadata": {},
   "source": [
    "Now, to load the data."
   ]
  },
  {
   "cell_type": "code",
   "execution_count": 3,
   "metadata": {
    "collapsed": false
   },
   "outputs": [],
   "source": [
    "revs = pd.read_table( \"./VE_experiment_revs.tsv\" )\n",
    "users = pd.read_table( \"./VE_experiment_cohort.tsv\" )"
   ]
  },
  {
   "cell_type": "code",
   "execution_count": 4,
   "metadata": {
    "collapsed": false
   },
   "outputs": [
    {
     "data": {
      "text/html": [
       "<div>\n",
       "<table border=\"1\" class=\"dataframe\">\n",
       "  <thead>\n",
       "    <tr style=\"text-align: right;\">\n",
       "      <th></th>\n",
       "      <th>user_id</th>\n",
       "      <th>registration</th>\n",
       "      <th>bucket</th>\n",
       "      <th>mobile_registered</th>\n",
       "    </tr>\n",
       "  </thead>\n",
       "  <tbody>\n",
       "    <tr>\n",
       "      <th>148969</th>\n",
       "      <td>26149206</td>\n",
       "      <td>20150901150222</td>\n",
       "      <td>treatment</td>\n",
       "      <td>1</td>\n",
       "    </tr>\n",
       "    <tr>\n",
       "      <th>148970</th>\n",
       "      <td>26149207</td>\n",
       "      <td>20150901150224</td>\n",
       "      <td>control</td>\n",
       "      <td>0</td>\n",
       "    </tr>\n",
       "    <tr>\n",
       "      <th>148971</th>\n",
       "      <td>26149209</td>\n",
       "      <td>20150901150234</td>\n",
       "      <td>control</td>\n",
       "      <td>1</td>\n",
       "    </tr>\n",
       "    <tr>\n",
       "      <th>148972</th>\n",
       "      <td>26149211</td>\n",
       "      <td>20150901150252</td>\n",
       "      <td>control</td>\n",
       "      <td>0</td>\n",
       "    </tr>\n",
       "    <tr>\n",
       "      <th>148973</th>\n",
       "      <td>26149212</td>\n",
       "      <td>20150901150259</td>\n",
       "      <td>treatment</td>\n",
       "      <td>1</td>\n",
       "    </tr>\n",
       "  </tbody>\n",
       "</table>\n",
       "</div>"
      ],
      "text/plain": [
       "         user_id    registration     bucket  mobile_registered\n",
       "148969  26149206  20150901150222  treatment                  1\n",
       "148970  26149207  20150901150224    control                  0\n",
       "148971  26149209  20150901150234    control                  1\n",
       "148972  26149211  20150901150252    control                  0\n",
       "148973  26149212  20150901150259  treatment                  1"
      ]
     },
     "execution_count": 4,
     "metadata": {},
     "output_type": "execute_result"
    }
   ],
   "source": [
    "users.tail()"
   ]
  },
  {
   "cell_type": "code",
   "execution_count": 5,
   "metadata": {
    "collapsed": false
   },
   "outputs": [
    {
     "data": {
      "text/html": [
       "<div>\n",
       "<table border=\"1\" class=\"dataframe\">\n",
       "  <thead>\n",
       "    <tr style=\"text-align: right;\">\n",
       "      <th></th>\n",
       "      <th>user_id</th>\n",
       "      <th>rev_id</th>\n",
       "      <th>rev_timestamp</th>\n",
       "      <th>ve_used</th>\n",
       "      <th>change_in_bytes</th>\n",
       "    </tr>\n",
       "  </thead>\n",
       "  <tbody>\n",
       "    <tr>\n",
       "      <th>259211</th>\n",
       "      <td>26144196</td>\n",
       "      <td>688297870</td>\n",
       "      <td>20151030234520</td>\n",
       "      <td>0</td>\n",
       "      <td>18</td>\n",
       "    </tr>\n",
       "    <tr>\n",
       "      <th>259212</th>\n",
       "      <td>26144196</td>\n",
       "      <td>688299594</td>\n",
       "      <td>20151031000211</td>\n",
       "      <td>1</td>\n",
       "      <td>338</td>\n",
       "    </tr>\n",
       "    <tr>\n",
       "      <th>259213</th>\n",
       "      <td>26144196</td>\n",
       "      <td>688299697</td>\n",
       "      <td>20151031000259</td>\n",
       "      <td>0</td>\n",
       "      <td>16</td>\n",
       "    </tr>\n",
       "    <tr>\n",
       "      <th>259214</th>\n",
       "      <td>26144196</td>\n",
       "      <td>688300350</td>\n",
       "      <td>20151031000925</td>\n",
       "      <td>1</td>\n",
       "      <td>403</td>\n",
       "    </tr>\n",
       "    <tr>\n",
       "      <th>259215</th>\n",
       "      <td>26144196</td>\n",
       "      <td>688300390</td>\n",
       "      <td>20151031000949</td>\n",
       "      <td>0</td>\n",
       "      <td>19</td>\n",
       "    </tr>\n",
       "  </tbody>\n",
       "</table>\n",
       "</div>"
      ],
      "text/plain": [
       "         user_id     rev_id   rev_timestamp  ve_used  change_in_bytes\n",
       "259211  26144196  688297870  20151030234520        0               18\n",
       "259212  26144196  688299594  20151031000211        1              338\n",
       "259213  26144196  688299697  20151031000259        0               16\n",
       "259214  26144196  688300350  20151031000925        1              403\n",
       "259215  26144196  688300390  20151031000949        0               19"
      ]
     },
     "execution_count": 5,
     "metadata": {},
     "output_type": "execute_result"
    }
   ],
   "source": [
    "revs.tail()"
   ]
  },
  {
   "cell_type": "code",
   "execution_count": 6,
   "metadata": {
    "collapsed": false,
    "scrolled": true
   },
   "outputs": [
    {
     "data": {
      "text/html": [
       "<div>\n",
       "<table border=\"1\" class=\"dataframe\">\n",
       "  <thead>\n",
       "    <tr style=\"text-align: right;\">\n",
       "      <th></th>\n",
       "      <th>user_id</th>\n",
       "      <th>rev_id</th>\n",
       "      <th>rev_timestamp</th>\n",
       "      <th>ve_used</th>\n",
       "      <th>change_in_bytes</th>\n",
       "      <th>registration</th>\n",
       "      <th>bucket</th>\n",
       "      <th>mobile_registered</th>\n",
       "    </tr>\n",
       "  </thead>\n",
       "  <tbody>\n",
       "    <tr>\n",
       "      <th>259211</th>\n",
       "      <td>26144196</td>\n",
       "      <td>688297870</td>\n",
       "      <td>20151030234520</td>\n",
       "      <td>0</td>\n",
       "      <td>18</td>\n",
       "      <td>20150901002418</td>\n",
       "      <td>treatment</td>\n",
       "      <td>0</td>\n",
       "    </tr>\n",
       "    <tr>\n",
       "      <th>259212</th>\n",
       "      <td>26144196</td>\n",
       "      <td>688299594</td>\n",
       "      <td>20151031000211</td>\n",
       "      <td>1</td>\n",
       "      <td>338</td>\n",
       "      <td>20150901002418</td>\n",
       "      <td>treatment</td>\n",
       "      <td>0</td>\n",
       "    </tr>\n",
       "    <tr>\n",
       "      <th>259213</th>\n",
       "      <td>26144196</td>\n",
       "      <td>688299697</td>\n",
       "      <td>20151031000259</td>\n",
       "      <td>0</td>\n",
       "      <td>16</td>\n",
       "      <td>20150901002418</td>\n",
       "      <td>treatment</td>\n",
       "      <td>0</td>\n",
       "    </tr>\n",
       "    <tr>\n",
       "      <th>259214</th>\n",
       "      <td>26144196</td>\n",
       "      <td>688300350</td>\n",
       "      <td>20151031000925</td>\n",
       "      <td>1</td>\n",
       "      <td>403</td>\n",
       "      <td>20150901002418</td>\n",
       "      <td>treatment</td>\n",
       "      <td>0</td>\n",
       "    </tr>\n",
       "    <tr>\n",
       "      <th>259215</th>\n",
       "      <td>26144196</td>\n",
       "      <td>688300390</td>\n",
       "      <td>20151031000949</td>\n",
       "      <td>0</td>\n",
       "      <td>19</td>\n",
       "      <td>20150901002418</td>\n",
       "      <td>treatment</td>\n",
       "      <td>0</td>\n",
       "    </tr>\n",
       "  </tbody>\n",
       "</table>\n",
       "</div>"
      ],
      "text/plain": [
       "         user_id     rev_id   rev_timestamp  ve_used  change_in_bytes  \\\n",
       "259211  26144196  688297870  20151030234520        0               18   \n",
       "259212  26144196  688299594  20151031000211        1              338   \n",
       "259213  26144196  688299697  20151031000259        0               16   \n",
       "259214  26144196  688300350  20151031000925        1              403   \n",
       "259215  26144196  688300390  20151031000949        0               19   \n",
       "\n",
       "          registration     bucket  mobile_registered  \n",
       "259211  20150901002418  treatment                  0  \n",
       "259212  20150901002418  treatment                  0  \n",
       "259213  20150901002418  treatment                  0  \n",
       "259214  20150901002418  treatment                  0  \n",
       "259215  20150901002418  treatment                  0  "
      ]
     },
     "execution_count": 6,
     "metadata": {},
     "output_type": "execute_result"
    }
   ],
   "source": [
    "revs = pd.merge(revs, users, on = \"user_id\", how = \"left\" )\n",
    "\n",
    "revs.tail()"
   ]
  },
  {
   "cell_type": "markdown",
   "metadata": {},
   "source": [
    "We're not interested in people who primarily use Wikipedia on mobile devices, because the visual editor is only widely available on desktop computers. Unfortunately, there's no simple ways to tell if someone is a mobile only user, but from past experience, registering the account from a mobile device is a pretty good proxy. So we'll exclude users who signed up using an app or the mobile web interface."
   ]
  },
  {
   "cell_type": "code",
   "execution_count": 7,
   "metadata": {
    "collapsed": true
   },
   "outputs": [],
   "source": [
    "users = users[ users[\"mobile_registered\"] == 0 ]\n",
    "revs = revs[ revs[\"mobile_registered\"] == 0] "
   ]
  },
  {
   "cell_type": "markdown",
   "metadata": {},
   "source": [
    "Make timestamps be actual date-time objects."
   ]
  },
  {
   "cell_type": "code",
   "execution_count": 8,
   "metadata": {
    "collapsed": false,
    "scrolled": true
   },
   "outputs": [
    {
     "data": {
      "text/html": [
       "<div>\n",
       "<table border=\"1\" class=\"dataframe\">\n",
       "  <thead>\n",
       "    <tr style=\"text-align: right;\">\n",
       "      <th></th>\n",
       "      <th>user_id</th>\n",
       "      <th>rev_id</th>\n",
       "      <th>rev_timestamp</th>\n",
       "      <th>ve_used</th>\n",
       "      <th>change_in_bytes</th>\n",
       "      <th>registration</th>\n",
       "      <th>bucket</th>\n",
       "      <th>mobile_registered</th>\n",
       "    </tr>\n",
       "  </thead>\n",
       "  <tbody>\n",
       "    <tr>\n",
       "      <th>259211</th>\n",
       "      <td>26144196</td>\n",
       "      <td>688297870</td>\n",
       "      <td>2015-10-30 23:45:20</td>\n",
       "      <td>0</td>\n",
       "      <td>18</td>\n",
       "      <td>2015-09-01 00:24:18</td>\n",
       "      <td>treatment</td>\n",
       "      <td>0</td>\n",
       "    </tr>\n",
       "    <tr>\n",
       "      <th>259212</th>\n",
       "      <td>26144196</td>\n",
       "      <td>688299594</td>\n",
       "      <td>2015-10-31 00:02:11</td>\n",
       "      <td>1</td>\n",
       "      <td>338</td>\n",
       "      <td>2015-09-01 00:24:18</td>\n",
       "      <td>treatment</td>\n",
       "      <td>0</td>\n",
       "    </tr>\n",
       "    <tr>\n",
       "      <th>259213</th>\n",
       "      <td>26144196</td>\n",
       "      <td>688299697</td>\n",
       "      <td>2015-10-31 00:02:59</td>\n",
       "      <td>0</td>\n",
       "      <td>16</td>\n",
       "      <td>2015-09-01 00:24:18</td>\n",
       "      <td>treatment</td>\n",
       "      <td>0</td>\n",
       "    </tr>\n",
       "    <tr>\n",
       "      <th>259214</th>\n",
       "      <td>26144196</td>\n",
       "      <td>688300350</td>\n",
       "      <td>2015-10-31 00:09:25</td>\n",
       "      <td>1</td>\n",
       "      <td>403</td>\n",
       "      <td>2015-09-01 00:24:18</td>\n",
       "      <td>treatment</td>\n",
       "      <td>0</td>\n",
       "    </tr>\n",
       "    <tr>\n",
       "      <th>259215</th>\n",
       "      <td>26144196</td>\n",
       "      <td>688300390</td>\n",
       "      <td>2015-10-31 00:09:49</td>\n",
       "      <td>0</td>\n",
       "      <td>19</td>\n",
       "      <td>2015-09-01 00:24:18</td>\n",
       "      <td>treatment</td>\n",
       "      <td>0</td>\n",
       "    </tr>\n",
       "  </tbody>\n",
       "</table>\n",
       "</div>"
      ],
      "text/plain": [
       "         user_id     rev_id       rev_timestamp  ve_used  change_in_bytes  \\\n",
       "259211  26144196  688297870 2015-10-30 23:45:20        0               18   \n",
       "259212  26144196  688299594 2015-10-31 00:02:11        1              338   \n",
       "259213  26144196  688299697 2015-10-31 00:02:59        0               16   \n",
       "259214  26144196  688300350 2015-10-31 00:09:25        1              403   \n",
       "259215  26144196  688300390 2015-10-31 00:09:49        0               19   \n",
       "\n",
       "              registration     bucket  mobile_registered  \n",
       "259211 2015-09-01 00:24:18  treatment                  0  \n",
       "259212 2015-09-01 00:24:18  treatment                  0  \n",
       "259213 2015-09-01 00:24:18  treatment                  0  \n",
       "259214 2015-09-01 00:24:18  treatment                  0  \n",
       "259215 2015-09-01 00:24:18  treatment                  0  "
      ]
     },
     "execution_count": 8,
     "metadata": {},
     "output_type": "execute_result"
    }
   ],
   "source": [
    "revs[\"rev_timestamp\"] = pd.to_datetime( revs[\"rev_timestamp\"], format=\"%Y%m%d%H%M%S\" )\n",
    "revs[\"registration\"] = pd.to_datetime( revs[\"registration\"], format=\"%Y%m%d%H%M%S\" )\n",
    "revs.tail()"
   ]
  },
  {
   "cell_type": "markdown",
   "metadata": {},
   "source": [
    "Add the number of revisions to the `users` frame."
   ]
  },
  {
   "cell_type": "code",
   "execution_count": 9,
   "metadata": {
    "collapsed": false
   },
   "outputs": [
    {
     "data": {
      "text/html": [
       "<div>\n",
       "<table border=\"1\" class=\"dataframe\">\n",
       "  <thead>\n",
       "    <tr style=\"text-align: right;\">\n",
       "      <th></th>\n",
       "      <th>user_id</th>\n",
       "      <th>registration</th>\n",
       "      <th>bucket</th>\n",
       "      <th>mobile_registered</th>\n",
       "      <th>revs</th>\n",
       "    </tr>\n",
       "  </thead>\n",
       "  <tbody>\n",
       "    <tr>\n",
       "      <th>76853</th>\n",
       "      <td>26149202</td>\n",
       "      <td>20150901150132</td>\n",
       "      <td>treatment</td>\n",
       "      <td>0</td>\n",
       "      <td>0.0</td>\n",
       "    </tr>\n",
       "    <tr>\n",
       "      <th>76854</th>\n",
       "      <td>26149203</td>\n",
       "      <td>20150901150146</td>\n",
       "      <td>control</td>\n",
       "      <td>0</td>\n",
       "      <td>0.0</td>\n",
       "    </tr>\n",
       "    <tr>\n",
       "      <th>76855</th>\n",
       "      <td>26149205</td>\n",
       "      <td>20150901150219</td>\n",
       "      <td>control</td>\n",
       "      <td>0</td>\n",
       "      <td>0.0</td>\n",
       "    </tr>\n",
       "    <tr>\n",
       "      <th>76856</th>\n",
       "      <td>26149207</td>\n",
       "      <td>20150901150224</td>\n",
       "      <td>control</td>\n",
       "      <td>0</td>\n",
       "      <td>0.0</td>\n",
       "    </tr>\n",
       "    <tr>\n",
       "      <th>76857</th>\n",
       "      <td>26149211</td>\n",
       "      <td>20150901150252</td>\n",
       "      <td>control</td>\n",
       "      <td>0</td>\n",
       "      <td>2.0</td>\n",
       "    </tr>\n",
       "  </tbody>\n",
       "</table>\n",
       "</div>"
      ],
      "text/plain": [
       "        user_id    registration     bucket  mobile_registered  revs\n",
       "76853  26149202  20150901150132  treatment                  0   0.0\n",
       "76854  26149203  20150901150146    control                  0   0.0\n",
       "76855  26149205  20150901150219    control                  0   0.0\n",
       "76856  26149207  20150901150224    control                  0   0.0\n",
       "76857  26149211  20150901150252    control                  0   2.0"
      ]
     },
     "execution_count": 9,
     "metadata": {},
     "output_type": "execute_result"
    }
   ],
   "source": [
    "revs_by_user = revs.groupby( \"user_id\" )[ \"rev_id\" ].size().to_frame().reset_index()\n",
    "\n",
    "revs_by_user.rename( columns = { 0: \"revs\" }, inplace = True )\n",
    "\n",
    "users = pd.merge( users, revs_by_user, on = \"user_id\", how = \"left\" )\n",
    "\n",
    "users.fillna( 0, inplace = True )\n",
    "\n",
    "users.tail()"
   ]
  },
  {
   "cell_type": "markdown",
   "metadata": {},
   "source": [
    "# Utility methods"
   ]
  },
  {
   "cell_type": "code",
   "execution_count": 10,
   "metadata": {
    "collapsed": true
   },
   "outputs": [],
   "source": [
    "def verbose_chisquared( name_1, n_1, k_1, name_2, n_2, k_2 ):\n",
    "    print( name_1, \"n:\", n_1 )\n",
    "    print( name_1, \"k:\", k_1 )\n",
    "    print( name_1, \"rate:\", k_1 / n_1 )\n",
    "    print( \"-----\" )\n",
    "    \n",
    "    print( name_2, \"n:\", n_2 )\n",
    "    print( name_2, \"k:\", k_2 )\n",
    "    print( name_2, \"rate:\", k_2 / n_2 )\n",
    "    print( \"-----\" )\n",
    "    \n",
    "    combined_rate = ( k_1 + k_2 ) / ( n_1 + n_2 )\n",
    "    print( stats.chisquare( [k_1, k_2 ], [ n_1 * combined_rate, n_2 * combined_rate] ) )\n",
    "    \n",
    "def verbose_mannwhitneyu( name_1, series_1, name_2, series_2 ):\n",
    "    print( name_1, \"average:\", round( series_1.mean(), 3 ) )\n",
    "    print( name_2, \"average:\", round( series_2.mean(), 3 ) )\n",
    "    print( stats.mannwhitneyu( series_1, series_2 ) )"
   ]
  },
  {
   "cell_type": "markdown",
   "metadata": {},
   "source": [
    "# Analysis"
   ]
  },
  {
   "cell_type": "code",
   "execution_count": 11,
   "metadata": {
    "collapsed": false
   },
   "outputs": [],
   "source": [
    "treatment_users = users[ users[ \"bucket\" ] == \"treatment\" ]\n",
    "n_treatment = len( treatment_users )\n",
    "\n",
    "control_users = users[ users[ \"bucket\" ] == \"control\" ]\n",
    "n_control = len( control_users )"
   ]
  },
  {
   "cell_type": "markdown",
   "metadata": {},
   "source": [
    "## Productivity"
   ]
  },
  {
   "cell_type": "markdown",
   "metadata": {},
   "source": [
    "None of the productivity variables in Aaron's original study showed anything close to a significant effect, so I'll just re-test the simplest two: (1) the total number of edits per user and (2) the proportion of users who made at least one edit."
   ]
  },
  {
   "cell_type": "code",
   "execution_count": 12,
   "metadata": {
    "collapsed": false
   },
   "outputs": [],
   "source": [
    "treatment_by_revs = treatment_users[\"revs\"]\n",
    "control_by_revs = control_users[\"revs\"]"
   ]
  },
  {
   "cell_type": "markdown",
   "metadata": {},
   "source": [
    "For total edits, I use the [Mann-Whitney U test](https://en.wikipedia.org/wiki/Mann–Whitney_U_test), also know as the Wilcoxon ranked-sum test."
   ]
  },
  {
   "cell_type": "code",
   "execution_count": 13,
   "metadata": {
    "collapsed": false
   },
   "outputs": [
    {
     "name": "stdout",
     "output_type": "stream",
     "text": [
      "VE average: 2.736\n",
      "control average: 2.942\n",
      "MannwhitneyuResult(statistic=737747609.5, pvalue=0.41702303223262732)\n"
     ]
    }
   ],
   "source": [
    "verbose_mannwhitneyu( \"VE\", treatment_by_revs, \"control\", control_by_revs )"
   ]
  },
  {
   "cell_type": "markdown",
   "metadata": {},
   "source": [
    "So p = 0.841 (the function returns a one-sided p value). No significance."
   ]
  },
  {
   "cell_type": "code",
   "execution_count": 95,
   "metadata": {
    "collapsed": false
   },
   "outputs": [
    {
     "data": {
      "image/png": "[encoded data removed]",
      "text/plain": [
       "<matplotlib.figure.Figure at 0x110ab1b38>"
      ]
     },
     "metadata": {},
     "output_type": "display_data"
    }
   ],
   "source": [
    "fig, axarr = plt.subplots( 1, 1, figsize=(20,10) )\n",
    "plt.hist(control_by_revs, alpha = 0.5, range = (0, 15), normed = 1, bins = 15, label = \"Source editor only\")\n",
    "plt.hist(treatment_by_revs, alpha = 0.5, range = (0, 15), normed = 1, bins = 15, label = \"Both editors\")\n",
    "plt.legend(loc=\"upper right\")\n",
    "plt.show()"
   ]
  },
  {
   "cell_type": "markdown",
   "metadata": {},
   "source": [
    "We can try again, "
   ]
  },
  {
   "cell_type": "markdown",
   "metadata": {},
   "source": [
    "For the proportion who edited at least once, I use [Pearson's chi-squared test](https://en.wikipedia.org/wiki/Pearson's_chi-squared_test)."
   ]
  },
  {
   "cell_type": "code",
   "execution_count": 14,
   "metadata": {
    "collapsed": false
   },
   "outputs": [
    {
     "name": "stdout",
     "output_type": "stream",
     "text": [
      "treatment n: 38365\n",
      "treatment k: 13343\n",
      "treatment rate: 0.347790955298\n",
      "-----\n",
      "control n: 38493\n",
      "control k: 13126\n",
      "control rate: 0.340997064401\n",
      "-----\n",
      "Power_divergenceResult(statistic=2.5752332123793669, pvalue=0.10854810298815173)\n"
     ]
    }
   ],
   "source": [
    "treatment_editors = treatment_by_revs[ treatment_by_revs >= 1 ].count()\n",
    "control_editors = control_by_revs[ control_by_revs >= 1 ].count()\n",
    "\n",
    "verbose_chisquared( \"treatment\", n_treatment, treatment_editors, \"control\", n_control, control_editors )"
   ]
  },
  {
   "cell_type": "markdown",
   "metadata": {},
   "source": [
    "p = 0.120. Not significant, but fairly low. However, the actual difference in editing proportion (35.2% with visual editor vs 34.5% without) isn't really anything to write home about."
   ]
  },
  {
   "cell_type": "markdown",
   "metadata": {},
   "source": [
    "## Block rate\n",
    "First, let me see whether [Aaron's block-categorizing regexes](https://meta.wikimedia.org/wiki/Research_talk:VisualEditor's_effect_on_newly_registered_editors/Work_log/2015-05-28#Block_rates_and_types) cover all the blocks on these expanded set of users.\n",
    "\n",
    "```\n",
    "SELECT \n",
    "\tuser_name, \n",
    "\tlog_comment\n",
    "FROM enwiki.logging \n",
    "INNER JOIN enwiki.user \n",
    "\tON REPLACE(log_title, \"_\", \" \") = user_name \n",
    "INNER JOIN staging.ve_experiment_expanded\n",
    "\tUSING (user_id) \n",
    "WHERE\n",
    "\tlog_type = \"block\" AND\n",
    "\tlog_action = \"block\" AND\n",
    "\tlog_timestamp BETWEEN \"201505211500\" AND \"201509011503\" AND\n",
    "\tlog_comment NOT RLIKE \"(S|s)pam\" AND\n",
    "\tlog_comment NOT RLIKE \"((V|v)and|(D|d)isrupt|(U|u)w-vaublock|(A|a)bus(e|ing)|(A|a)ttack|(D|d)eliberate|NOTHERE)\" AND\n",
    "\tlog_comment NOT RLIKE \"((S|s)ock|(C|c)heckuser|(E|e)vasion)\" AND\n",
    "\tlog_comment NOT RLIKE \"softerblock|soft block\" AND\n",
    "\tlog_comment NOT RLIKE \"(U|u)w-uhblock|user\\.\\.\\.|(U|u)w-ublock\"\n",
    ";\n",
    "```\n",
    "\n",
    "```\n",
    "169 rows affected; taking 27.5 s\n",
    "```\n",
    "\n",
    "Okay, so it needs a little more work.\n",
    "\n",
    "```\n",
    "SELECT \n",
    "\tuser_name, \n",
    "\tlog_comment\n",
    "FROM enwiki.logging \n",
    "INNER JOIN enwiki.user \n",
    "\tON REPLACE(log_title, \"_\", \" \") = user_name \n",
    "INNER JOIN staging.ve_experiment_expanded\n",
    "\tUSING (user_id) \n",
    "WHERE\n",
    "log_type = \"block\" AND\n",
    "log_action = \"block\" AND\n",
    "log_timestamp BETWEEN \"201505211500\" AND \"201509011503\" AND\n",
    "log_comment NOT RLIKE # Hard username blocks\n",
    "    \"(U|u)w-u(h)?block|user...\" \n",
    "     AND\n",
    "log_comment NOT RLIKE # Soft username blocks\n",
    "    \"(U|u)ser(\\\\s)?name|soft(er|est)?(\\\\s)?block|botublock|causeblock|organization|one person\" \n",
    "     AND\n",
    "log_comment NOT RLIKE # Spam\n",
    "    \"(S|s)pam|(A|a)dvertising|(P|p)romotional\" \n",
    "    AND\n",
    "log_comment NOT RLIKE # Obvious abuse\n",
    "    \"(V|v)and|(D|d)isrupt|(U|u)w-vaublock|(A|a)bus(e|ing)|(A|a)ttack|(D|d)eliberate|NOTHERE|not here|LTA|(T|t)roll|(H|h)arassment|(P|p)atent nonsense|(I|i)nsult\" \n",
    "     AND\n",
    "log_comment NOT RLIKE # Policy violation\n",
    "\t\"(C|c)opyright|(B|b)iographies|BLP|POV|(W|w)arring|(T|t)hree-revert|(U|u)nsourced|(L|l)egal threat\"\n",
    "    AND\n",
    "log_comment NOT RLIKE # Sockpuppetry\n",
    "\t\"SOCK|(S|s)ock|(C|c)heck(U|u)ser|(E|e)va(de|sion)|(M|m)eatpuppet\"\n",
    ";\n",
    "```\n",
    "\n",
    "```\n",
    "39 rows affected, taking 13.0 s\n",
    "```\n",
    "\n",
    "That's better; the only blocks left are ones whose comments are miscellaneous (\"Persistent use of Wikipedia as a social media network\", \"As per [[User:CURRENT RESEARCH IN CHEMISTRY AND PHARMACEUTICAL SCIENCES-INTERNATIONAL JOURNAL]]\", \"You have been blocked for testing purposes\"), nonspecific (\"Please see your talk page for a full explanation\", \"so many possible reasons; pick your favourite!\", \"No thanks.\"), or empty. I'm not going to include the full list because some of the usernames are thoroughly toxic.\n",
    "\n",
    "*What about accounts blocked multiple times? for example, https://en.wikipedia.org/w/index.php?title=Special:Log/block&page=Majorwith?*\n",
    "\n",
    "Some block comments match multiple regexes (e.g. `{{uw-spamublock}} <!-- Promotional username, promotional edits -->: <!-- see also: [[User:Wiz vlogging and gaming]] -->` would match both spam and username regexes. However in the select statement, the block will match at most one—preferring the first in the query."
   ]
  },
  {
   "cell_type": "markdown",
   "metadata": {},
   "source": [
    "Now, let's get all these blocks categorized as above.\n",
    "```\n",
    "mysql -h analytics-store.eqiad.wmnet -u research -e \"\n",
    "SELECT\n",
    "\tuser_id,\n",
    "\tbucket,\n",
    "\tIF( log_comment RLIKE\n",
    "   \t\t\"(U|u)w-u(h)?block|user...\", \n",
    "   \t\t\"hard username\",\n",
    "\tIF( log_comment RLIKE\n",
    "    \t\"(U|u)ser(\\\\s)?name|soft(er|est)?(\\\\s)?block|botublock|causeblock|organization|one person\",\n",
    "    \t\"soft username\",\n",
    "    IF( log_comment RLIKE \n",
    "\t\t\"(S|s)pam|(A|a)dvertising|(P|p)romotional\",\n",
    "\t\t\"spam\",\n",
    "\tIF( log_comment RLIKE\n",
    "    \t\"(V|v)and|(D|d)isrupt|(U|u)w-vaublock|(A|a)bus(e|ing)|(A|a)ttack|(D|d)eliberate|NOTHERE|not here|LTA|(T|t)roll|(H|h)arassment|(P|p)atent nonsense|(I|i)nsult\",\n",
    "    \t\"abuse\", \n",
    "    IF( log_comment RLIKE\n",
    "    \t\"(C|c)opyright|(B|b)iographies|BLP|POV|(W|w)arring|(T|t)hree-revert|(U|u)nsourced|(L|l)egal threat\",\n",
    "\t\t\"policy violation\",\n",
    "\tIF( log_comment RLIKE\n",
    "\t\t\"SOCK|(S|s)ock|(C|c)heck(U|u)ser|(E|e)va(de|sion)|(M|m)eatpuppet\",\n",
    "\t\t\"sockpuppetry\",\n",
    "\t\"other\"\n",
    "\t) ) ) ) ) ) AS \"block reason\"\n",
    "FROM enwiki.logging \n",
    "INNER JOIN enwiki.user \n",
    "\tON REPLACE(log_title, \"_\", \" \") = user_name \n",
    "INNER JOIN staging.ve_experiment_expanded\n",
    "\tUSING (user_id)\n",
    "WHERE \n",
    "\tlog_type = \"block\" AND \n",
    "\tlog_action = \"block\" AND \n",
    "\tlog_timestamp BETWEEN \"201505211500\" AND \"201509011503\"\n",
    ";\" > ~/VE_experiment_block.tsv\n",
    "```"
   ]
  },
  {
   "cell_type": "code",
   "execution_count": 15,
   "metadata": {
    "collapsed": false
   },
   "outputs": [
    {
     "data": {
      "text/html": [
       "<div>\n",
       "<table border=\"1\" class=\"dataframe\">\n",
       "  <thead>\n",
       "    <tr style=\"text-align: right;\">\n",
       "      <th></th>\n",
       "      <th>user_id</th>\n",
       "      <th>bucket</th>\n",
       "      <th>timestamp</th>\n",
       "      <th>block reason</th>\n",
       "    </tr>\n",
       "  </thead>\n",
       "  <tbody>\n",
       "    <tr>\n",
       "      <th>4065</th>\n",
       "      <td>26144652</td>\n",
       "      <td>treatment</td>\n",
       "      <td>20150901134816</td>\n",
       "      <td>spam</td>\n",
       "    </tr>\n",
       "    <tr>\n",
       "      <th>4066</th>\n",
       "      <td>26141638</td>\n",
       "      <td>treatment</td>\n",
       "      <td>20150901134936</td>\n",
       "      <td>spam</td>\n",
       "    </tr>\n",
       "    <tr>\n",
       "      <th>4067</th>\n",
       "      <td>26144368</td>\n",
       "      <td>treatment</td>\n",
       "      <td>20150901135014</td>\n",
       "      <td>spam</td>\n",
       "    </tr>\n",
       "    <tr>\n",
       "      <th>4068</th>\n",
       "      <td>25336587</td>\n",
       "      <td>control</td>\n",
       "      <td>20150901140413</td>\n",
       "      <td>policy violation</td>\n",
       "    </tr>\n",
       "    <tr>\n",
       "      <th>4069</th>\n",
       "      <td>26147382</td>\n",
       "      <td>treatment</td>\n",
       "      <td>20150901142955</td>\n",
       "      <td>hard username</td>\n",
       "    </tr>\n",
       "  </tbody>\n",
       "</table>\n",
       "</div>"
      ],
      "text/plain": [
       "       user_id     bucket       timestamp      block reason\n",
       "4065  26144652  treatment  20150901134816              spam\n",
       "4066  26141638  treatment  20150901134936              spam\n",
       "4067  26144368  treatment  20150901135014              spam\n",
       "4068  25336587    control  20150901140413  policy violation\n",
       "4069  26147382  treatment  20150901142955     hard username"
      ]
     },
     "execution_count": 15,
     "metadata": {},
     "output_type": "execute_result"
    }
   ],
   "source": [
    "blocks = pd.read_table( \"./VE_experiment_blocks.tsv\" )\n",
    "\n",
    "blocks.tail()"
   ]
  },
  {
   "cell_type": "code",
   "execution_count": 16,
   "metadata": {
    "collapsed": false
   },
   "outputs": [
    {
     "name": "stdout",
     "output_type": "stream",
     "text": [
      "blocked\n",
      "0.0    73485\n",
      "1.0     3362\n",
      "2.0       10\n",
      "3.0        1\n",
      "dtype: int64\n",
      "block reason\n",
      "abuse               1399\n",
      "hard username       1482\n",
      "other                 39\n",
      "policy violation      49\n",
      "sockpuppetry         230\n",
      "soft username        219\n",
      "spam                 652\n",
      "dtype: int64\n"
     ]
    }
   ],
   "source": [
    "blocks_by_user = blocks.groupby( \"user_id\" ).size().to_frame().reset_index()\n",
    "\n",
    "blocks_by_user.rename( columns = { 0: \"blocked\" }, inplace = True )\n",
    "\n",
    "users_blocks = pd.merge( users, blocks_by_user, on=\"user_id\", how=\"left\" )\n",
    "\n",
    "users_blocks[ \"blocked\" ].fillna( 0, inplace = True )\n",
    "\n",
    "print( users_blocks.groupby( \"blocked\" ).size() )\n",
    "\n",
    "print( blocks.groupby( \"block reason\" ).size() )"
   ]
  },
  {
   "cell_type": "markdown",
   "metadata": {},
   "source": [
    "Only 11 users were blocked multiple times, so it seems fair to just reduce it to a boolean reflecting whether the user was ever blocked."
   ]
  },
  {
   "cell_type": "code",
   "execution_count": 17,
   "metadata": {
    "collapsed": false
   },
   "outputs": [
    {
     "data": {
      "text/plain": [
       "blocked\n",
       "0.0    73485\n",
       "1.0     3373\n",
       "dtype: int64"
      ]
     },
     "execution_count": 17,
     "metadata": {},
     "output_type": "execute_result"
    }
   ],
   "source": [
    "users_blocks.at[ users_blocks[ \"blocked\"] > 1, \"blocked\" ] = 1\n",
    "users_blocks.groupby( \"blocked\" ).size()"
   ]
  },
  {
   "cell_type": "code",
   "execution_count": 18,
   "metadata": {
    "collapsed": false
   },
   "outputs": [
    {
     "name": "stdout",
     "output_type": "stream",
     "text": [
      "VE n: 38365\n",
      "VE k: 1687\n",
      "VE rate: 0.0439723706503\n",
      "-----\n",
      "control n: 38493\n",
      "control k: 1686\n",
      "control rate: 0.0438001714597\n",
      "-----\n",
      "Power_divergenceResult(statistic=0.012982634558350057, pvalue=0.90928427489137398)\n"
     ]
    }
   ],
   "source": [
    "treatment_blocked = users_blocks[ ( users_blocks[ \"blocked\" ] == 1 ) & ( users_blocks[ \"bucket\" ] == \"treatment\" ) ].count( )[\"user_id\"]\n",
    "control_blocked = users_blocks[ ( users_blocks[ \"blocked\" ] == 1 ) & ( users_blocks[ \"bucket\" ] == \"control\" ) ].count( )[\"user_id\"]\n",
    "\n",
    "verbose_chisquared( \"VE\", n_treatment, treatment_blocked, \"control\", n_control, control_blocked )"
   ]
  },
  {
   "cell_type": "markdown",
   "metadata": {},
   "source": [
    "So the visual editor make no difference when it came to blocks. This makes sense; there's no reason that making it easier to edit would drive away bad-faith actors."
   ]
  },
  {
   "cell_type": "markdown",
   "metadata": {},
   "source": [
    "## Revert rate\n",
    "To calculate the revert rate, I use Aaron's script [python-mwmetrics](https://github.com/mediawiki-utilities/python-mwmetrics). By default, it checks for reverts in the next 48 hours and 15 edits, whichever is less, after the edit in question. The [revert checking](https://github.com/mediawiki-utilities/python-mediawiki-utilities/blob/3edd1cc3754e71f8f77ba4c53c406934818d6b99/mw/lib/reverts/database.py) uses hashes. If an edit within the follow-up window has the same hash as one of edit's close parents, it's considered to have been reverted.\n",
    "\n",
    "I [tweaked the script](https://github.com/neilpquinn/hacky-mwrevert-detector/blob/3c10fb9e5a0b4357a43ae267c105b9f9eb797f67/mwmetrics/utilities/new_users.py) to look for reverts across the users' first sixty days.\n",
    "\n",
    "I had to exclude one user from the cohort (ID 26048397) because of a [strange inconsistency](https://lists.wikimedia.org/pipermail/analytics/2015-December/004697.html) between database tables."
   ]
  },
  {
   "cell_type": "code",
   "execution_count": 19,
   "metadata": {
    "collapsed": false
   },
   "outputs": [
    {
     "data": {
      "text/html": [
       "<div>\n",
       "<table border=\"1\" class=\"dataframe\">\n",
       "  <thead>\n",
       "    <tr style=\"text-align: right;\">\n",
       "      <th></th>\n",
       "      <th>user_id</th>\n",
       "      <th>registration</th>\n",
       "      <th>bucket</th>\n",
       "      <th>mobile_registered</th>\n",
       "      <th>revs</th>\n",
       "      <th>reverted_content_revisions</th>\n",
       "    </tr>\n",
       "  </thead>\n",
       "  <tbody>\n",
       "    <tr>\n",
       "      <th>76853</th>\n",
       "      <td>26149202</td>\n",
       "      <td>20150901150132</td>\n",
       "      <td>treatment</td>\n",
       "      <td>0</td>\n",
       "      <td>0.0</td>\n",
       "      <td>0</td>\n",
       "    </tr>\n",
       "    <tr>\n",
       "      <th>76854</th>\n",
       "      <td>26149203</td>\n",
       "      <td>20150901150146</td>\n",
       "      <td>control</td>\n",
       "      <td>0</td>\n",
       "      <td>0.0</td>\n",
       "      <td>0</td>\n",
       "    </tr>\n",
       "    <tr>\n",
       "      <th>76855</th>\n",
       "      <td>26149205</td>\n",
       "      <td>20150901150219</td>\n",
       "      <td>control</td>\n",
       "      <td>0</td>\n",
       "      <td>0.0</td>\n",
       "      <td>0</td>\n",
       "    </tr>\n",
       "    <tr>\n",
       "      <th>76856</th>\n",
       "      <td>26149207</td>\n",
       "      <td>20150901150224</td>\n",
       "      <td>control</td>\n",
       "      <td>0</td>\n",
       "      <td>0.0</td>\n",
       "      <td>0</td>\n",
       "    </tr>\n",
       "    <tr>\n",
       "      <th>76857</th>\n",
       "      <td>26149211</td>\n",
       "      <td>20150901150252</td>\n",
       "      <td>control</td>\n",
       "      <td>0</td>\n",
       "      <td>2.0</td>\n",
       "      <td>0</td>\n",
       "    </tr>\n",
       "  </tbody>\n",
       "</table>\n",
       "</div>"
      ],
      "text/plain": [
       "        user_id    registration     bucket  mobile_registered  revs  \\\n",
       "76853  26149202  20150901150132  treatment                  0   0.0   \n",
       "76854  26149203  20150901150146    control                  0   0.0   \n",
       "76855  26149205  20150901150219    control                  0   0.0   \n",
       "76856  26149207  20150901150224    control                  0   0.0   \n",
       "76857  26149211  20150901150252    control                  0   2.0   \n",
       "\n",
       "       reverted_content_revisions  \n",
       "76853                           0  \n",
       "76854                           0  \n",
       "76855                           0  \n",
       "76856                           0  \n",
       "76857                           0  "
      ]
     },
     "execution_count": 19,
     "metadata": {},
     "output_type": "execute_result"
    }
   ],
   "source": [
    "reverts = pd.read_table( \"./VE_experiment_reverts.tsv\" )\n",
    "reverts.drop(\"user_registration\", axis = 1, inplace = True )\n",
    "\n",
    "users_reverts = pd.merge( users, reverts, on = \"user_id\", how = \"left\" )\n",
    "\n",
    "treatment_reverts = users_reverts[ users_reverts[\"bucket\"] == \"treatment\" ][ \"reverted_content_revisions\" ]\n",
    "control_reverts = users_reverts[ users_reverts[\"bucket\"] == \"control\" ][ \"reverted_content_revisions\" ]\n",
    "\n",
    "users_reverts.tail()"
   ]
  },
  {
   "cell_type": "code",
   "execution_count": 20,
   "metadata": {
    "collapsed": false,
    "scrolled": false
   },
   "outputs": [
    {
     "name": "stdout",
     "output_type": "stream",
     "text": [
      "average edits: 2.839\n",
      "VE average: 0.288\n",
      "control average: 0.338\n",
      "MannwhitneyuResult(statistic=736083628.5, pvalue=0.22645794131143487)\n"
     ]
    }
   ],
   "source": [
    "print( \"average edits:\", round( users_reverts[ \"revs\" ].mean(), 3 ) )\n",
    "\n",
    "verbose_mannwhitneyu( \"VE\", treatment_reverts, \"control\", control_reverts )"
   ]
  },
  {
   "cell_type": "markdown",
   "metadata": {},
   "source": [
    "Interesting. It's not significant, but there *is* an appreciable difference, with VE users getting reverted a bit less. Maybe this will become significant if we distill things a bit by filtering out the users who never edited."
   ]
  },
  {
   "cell_type": "code",
   "execution_count": 21,
   "metadata": {
    "collapsed": false,
    "scrolled": true
   },
   "outputs": [
    {
     "name": "stdout",
     "output_type": "stream",
     "text": [
      "average edits: 8.244\n",
      "VE average: 0.828\n",
      "control average: 0.991\n",
      "MannwhitneyuResult(statistic=85926513.0, pvalue=0.0040913422223638387)\n"
     ]
    }
   ],
   "source": [
    "editors_reverts = users_reverts[ users_reverts[\"revs\"] > 0 ]\n",
    "treatment_reverts = editors_reverts[ editors_reverts[\"bucket\"] == \"treatment\" ][ \"reverted_content_revisions\" ]\n",
    "control_reverts = editors_reverts[ editors_reverts[\"bucket\"] == \"control\" ][ \"reverted_content_revisions\" ]\n",
    "\n",
    "print( \"average edits:\", round( editors_reverts[ \"revs\" ].mean(), 3 ) )\n",
    "verbose_mannwhitneyu( \"VE\", treatment_reverts, \"control\", control_reverts )"
   ]
  },
  {
   "cell_type": "markdown",
   "metadata": {},
   "source": [
    "Wow, that is significant, even at a stringent p = 0.01 level. To understand the size of the effect, you could think of it this way: the average new editor who edits at all makes 9 edits in their first 60 days and sees one of those edits reverted. In the VE group, one editor in five is able to avoid that revert."
   ]
  },
  {
   "cell_type": "code",
   "execution_count": 77,
   "metadata": {
    "collapsed": false
   },
   "outputs": [
    {
     "name": "stderr",
     "output_type": "stream",
     "text": [
      "/Applications/Miniconda/lib/python3.5/site-packages/pandas/core/indexing.py:461: SettingWithCopyWarning: \n",
      "A value is trying to be set on a copy of a slice from a DataFrame.\n",
      "Try using .loc[row_indexer,col_indexer] = value instead\n",
      "\n",
      "See the caveats in the documentation: http://pandas.pydata.org/pandas-docs/stable/indexing.html#indexing-view-versus-copy\n",
      "  self.obj[item] = s\n",
      "/Applications/Miniconda/lib/python3.5/site-packages/pandas/core/frame.py:2756: SettingWithCopyWarning: \n",
      "A value is trying to be set on a copy of a slice from a DataFrame\n",
      "\n",
      "See the caveats in the documentation: http://pandas.pydata.org/pandas-docs/stable/indexing.html#indexing-view-versus-copy\n",
      "  downcast=downcast, **kwargs)\n"
     ]
    }
   ],
   "source": [
    "editors_reverts.loc[:, \"proportion_reverted\"] = editors_reverts[\"reverted_content_revisions\"] / editors_reverts[\"revs\"]\n",
    "\n",
    "editors_reverts.fillna(value = 0, inplace = True)\n",
    "treatment_rv_prop = editors_reverts[ editors_reverts[\"bucket\"] == \"treatment\" ][\"proportion_reverted\"]\n",
    "control_rv_prop = editors_reverts[ editors_reverts[\"bucket\"] == \"control\" ][\"proportion_reverted\"]"
   ]
  },
  {
   "cell_type": "code",
   "execution_count": 78,
   "metadata": {
    "collapsed": false
   },
   "outputs": [
    {
     "name": "stdout",
     "output_type": "stream",
     "text": [
      "VE average: 0.218\n",
      "control average: 0.223\n",
      "MannwhitneyuResult(statistic=86605768.5, pvalue=0.06038896316585847)\n"
     ]
    }
   ],
   "source": [
    "verbose_mannwhitneyu( \"VE\", treatment_rv_prop, \"control\", control_rv_prop )"
   ]
  },
  {
   "cell_type": "code",
   "execution_count": 104,
   "metadata": {
    "collapsed": false
   },
   "outputs": [
    {
     "name": "stdout",
     "output_type": "stream",
     "text": [
      "VE n: 104963.0\n",
      "VE k: 11047\n",
      "VE rate: 0.10524661071\n",
      "-----\n",
      "control n: 113260.0\n",
      "control k: 13008\n",
      "control rate: 0.114850785803\n",
      "-----\n",
      "Power_divergenceResult(statistic=45.585588840803183, pvalue=1.4611263688157673e-11)\n"
     ]
    }
   ],
   "source": [
    "verbose_chisquared( \"VE\", treatment_by_revs.sum(), treatment_reverts.sum(), \"control\", control_by_revs.sum(), control_reverts.sum() ) "
   ]
  },
  {
   "cell_type": "markdown",
   "metadata": {},
   "source": [
    "Let's drill down into content revisions because the revert detector only looked at edits to content pages."
   ]
  },
  {
   "cell_type": "code",
   "execution_count": 130,
   "metadata": {
    "collapsed": false
   },
   "outputs": [
    {
     "data": {
      "text/html": [
       "<div>\n",
       "<table border=\"1\" class=\"dataframe\">\n",
       "  <thead>\n",
       "    <tr style=\"text-align: right;\">\n",
       "      <th></th>\n",
       "      <th>user_id</th>\n",
       "      <th>rev_id</th>\n",
       "      <th>rev_timestamp</th>\n",
       "      <th>ve_used</th>\n",
       "      <th>change_in_bytes</th>\n",
       "      <th>registration</th>\n",
       "      <th>bucket</th>\n",
       "      <th>mobile_registered</th>\n",
       "      <th>ores_damaging</th>\n",
       "      <th>namespace</th>\n",
       "    </tr>\n",
       "  </thead>\n",
       "  <tbody>\n",
       "    <tr>\n",
       "      <th>150031</th>\n",
       "      <td>26144196.0</td>\n",
       "      <td>688297870.0</td>\n",
       "      <td>2015-10-30 23:45:20</td>\n",
       "      <td>0.0</td>\n",
       "      <td>18.0</td>\n",
       "      <td>2015-09-01 00:24:18</td>\n",
       "      <td>treatment</td>\n",
       "      <td>0.0</td>\n",
       "      <td>NaN</td>\n",
       "      <td>0</td>\n",
       "    </tr>\n",
       "    <tr>\n",
       "      <th>150032</th>\n",
       "      <td>26144196.0</td>\n",
       "      <td>688299594.0</td>\n",
       "      <td>2015-10-31 00:02:11</td>\n",
       "      <td>1.0</td>\n",
       "      <td>338.0</td>\n",
       "      <td>2015-09-01 00:24:18</td>\n",
       "      <td>treatment</td>\n",
       "      <td>0.0</td>\n",
       "      <td>NaN</td>\n",
       "      <td>0</td>\n",
       "    </tr>\n",
       "    <tr>\n",
       "      <th>150033</th>\n",
       "      <td>26144196.0</td>\n",
       "      <td>688299697.0</td>\n",
       "      <td>2015-10-31 00:02:59</td>\n",
       "      <td>0.0</td>\n",
       "      <td>16.0</td>\n",
       "      <td>2015-09-01 00:24:18</td>\n",
       "      <td>treatment</td>\n",
       "      <td>0.0</td>\n",
       "      <td>NaN</td>\n",
       "      <td>0</td>\n",
       "    </tr>\n",
       "    <tr>\n",
       "      <th>150034</th>\n",
       "      <td>26144196.0</td>\n",
       "      <td>688300350.0</td>\n",
       "      <td>2015-10-31 00:09:25</td>\n",
       "      <td>1.0</td>\n",
       "      <td>403.0</td>\n",
       "      <td>2015-09-01 00:24:18</td>\n",
       "      <td>treatment</td>\n",
       "      <td>0.0</td>\n",
       "      <td>NaN</td>\n",
       "      <td>0</td>\n",
       "    </tr>\n",
       "    <tr>\n",
       "      <th>150035</th>\n",
       "      <td>26144196.0</td>\n",
       "      <td>688300390.0</td>\n",
       "      <td>2015-10-31 00:09:49</td>\n",
       "      <td>0.0</td>\n",
       "      <td>19.0</td>\n",
       "      <td>2015-09-01 00:24:18</td>\n",
       "      <td>treatment</td>\n",
       "      <td>0.0</td>\n",
       "      <td>NaN</td>\n",
       "      <td>0</td>\n",
       "    </tr>\n",
       "  </tbody>\n",
       "</table>\n",
       "</div>"
      ],
      "text/plain": [
       "           user_id       rev_id       rev_timestamp  ve_used  change_in_bytes  \\\n",
       "150031  26144196.0  688297870.0 2015-10-30 23:45:20      0.0             18.0   \n",
       "150032  26144196.0  688299594.0 2015-10-31 00:02:11      1.0            338.0   \n",
       "150033  26144196.0  688299697.0 2015-10-31 00:02:59      0.0             16.0   \n",
       "150034  26144196.0  688300350.0 2015-10-31 00:09:25      1.0            403.0   \n",
       "150035  26144196.0  688300390.0 2015-10-31 00:09:49      0.0             19.0   \n",
       "\n",
       "              registration     bucket  mobile_registered  ores_damaging  \\\n",
       "150031 2015-09-01 00:24:18  treatment                0.0            NaN   \n",
       "150032 2015-09-01 00:24:18  treatment                0.0            NaN   \n",
       "150033 2015-09-01 00:24:18  treatment                0.0            NaN   \n",
       "150034 2015-09-01 00:24:18  treatment                0.0            NaN   \n",
       "150035 2015-09-01 00:24:18  treatment                0.0            NaN   \n",
       "\n",
       "        namespace  \n",
       "150031          0  \n",
       "150032          0  \n",
       "150033          0  \n",
       "150034          0  \n",
       "150035          0  "
      ]
     },
     "execution_count": 130,
     "metadata": {},
     "output_type": "execute_result"
    }
   ],
   "source": [
    "# Many namespaces are NULL because the page had subsequently been deleted. To be conservative,\n",
    "# I'm treating them as main namespace edits. \n",
    "def convert_null(value):\n",
    "    if value == \"NULL\":\n",
    "        return 0\n",
    "    else:\n",
    "        return int(value)\n",
    "    \n",
    "ns_revs = pd.read_table( \"./VE_experiment_revs_namespace.tsv\", \n",
    "            dtype = {\"rev_id\": int, \"namespace\": int},\n",
    "            converters = {\"namespace\": convert_null}  )\n",
    "\n",
    "main_ns_revs = ns_revs[ns_revs[\"namespace\"] == 0 ]\n",
    "\n",
    "main_ns_revs = pd.merge( revs, main_ns_revs, on = \"rev_id\", how = \"inner\" )\n",
    "\n",
    "main_ns_revs.tail()"
   ]
  },
  {
   "cell_type": "code",
   "execution_count": 159,
   "metadata": {
    "collapsed": false
   },
   "outputs": [
    {
     "data": {
      "text/html": [
       "<div>\n",
       "<table border=\"1\" class=\"dataframe\">\n",
       "  <thead>\n",
       "    <tr style=\"text-align: right;\">\n",
       "      <th></th>\n",
       "      <th>user_id</th>\n",
       "      <th>registration</th>\n",
       "      <th>bucket</th>\n",
       "      <th>mobile_registered</th>\n",
       "      <th>revs</th>\n",
       "      <th>reverted_content_revisions</th>\n",
       "      <th>proportion_reverted</th>\n",
       "      <th>content_revs</th>\n",
       "    </tr>\n",
       "  </thead>\n",
       "  <tbody>\n",
       "    <tr>\n",
       "      <th>76844</th>\n",
       "      <td>26149175</td>\n",
       "      <td>20150901145833</td>\n",
       "      <td>control</td>\n",
       "      <td>0</td>\n",
       "      <td>5.0</td>\n",
       "      <td>0</td>\n",
       "      <td>0.0</td>\n",
       "      <td>2.0</td>\n",
       "    </tr>\n",
       "    <tr>\n",
       "      <th>76846</th>\n",
       "      <td>26149183</td>\n",
       "      <td>20150901145939</td>\n",
       "      <td>control</td>\n",
       "      <td>0</td>\n",
       "      <td>2.0</td>\n",
       "      <td>0</td>\n",
       "      <td>0.0</td>\n",
       "      <td>2.0</td>\n",
       "    </tr>\n",
       "    <tr>\n",
       "      <th>76847</th>\n",
       "      <td>26149189</td>\n",
       "      <td>20150901150026</td>\n",
       "      <td>control</td>\n",
       "      <td>0</td>\n",
       "      <td>16.0</td>\n",
       "      <td>0</td>\n",
       "      <td>0.0</td>\n",
       "      <td>15.0</td>\n",
       "    </tr>\n",
       "    <tr>\n",
       "      <th>76848</th>\n",
       "      <td>26149195</td>\n",
       "      <td>20150901150055</td>\n",
       "      <td>control</td>\n",
       "      <td>0</td>\n",
       "      <td>2.0</td>\n",
       "      <td>0</td>\n",
       "      <td>0.0</td>\n",
       "      <td>2.0</td>\n",
       "    </tr>\n",
       "    <tr>\n",
       "      <th>76857</th>\n",
       "      <td>26149211</td>\n",
       "      <td>20150901150252</td>\n",
       "      <td>control</td>\n",
       "      <td>0</td>\n",
       "      <td>2.0</td>\n",
       "      <td>0</td>\n",
       "      <td>0.0</td>\n",
       "      <td>2.0</td>\n",
       "    </tr>\n",
       "  </tbody>\n",
       "</table>\n",
       "</div>"
      ],
      "text/plain": [
       "        user_id    registration   bucket  mobile_registered  revs  \\\n",
       "76844  26149175  20150901145833  control                  0   5.0   \n",
       "76846  26149183  20150901145939  control                  0   2.0   \n",
       "76847  26149189  20150901150026  control                  0  16.0   \n",
       "76848  26149195  20150901150055  control                  0   2.0   \n",
       "76857  26149211  20150901150252  control                  0   2.0   \n",
       "\n",
       "       reverted_content_revisions  proportion_reverted  content_revs  \n",
       "76844                           0                  0.0           2.0  \n",
       "76846                           0                  0.0           2.0  \n",
       "76847                           0                  0.0          15.0  \n",
       "76848                           0                  0.0           2.0  \n",
       "76857                           0                  0.0           2.0  "
      ]
     },
     "execution_count": 159,
     "metadata": {},
     "output_type": "execute_result"
    }
   ],
   "source": [
    "main_revs_by_user = main_ns_revs.groupby( \"user_id\" )[ \"rev_id\" ].size().to_frame().reset_index()\n",
    "\n",
    "main_revs_by_user.rename( columns = { 0: \"content_revs\" }, inplace = True )\n",
    "\n",
    "users_with_ns = pd.merge( users_reverts, main_revs_by_user, on = \"user_id\", how = \"left\" )\n",
    "\n",
    "users_with_ns.fillna( 0, inplace = True )\n",
    "\n",
    "users_with_ns[ users_with_ns[\"reverted_content_revisions\"] > users_with_ns[\"content_revs\"] ]\n",
    "\n",
    "users_with_ns = users_with_ns[users_with_ns[\"revs\"] > 0]\n",
    "\n",
    "users_with_ns.tail()"
   ]
  },
  {
   "cell_type": "code",
   "execution_count": 151,
   "metadata": {
    "collapsed": false
   },
   "outputs": [
    {
     "name": "stdout",
     "output_type": "stream",
     "text": [
      "VE n: 72460.0\n",
      "VE k: 11047\n",
      "VE rate: 0.152456527739\n",
      "-----\n",
      "control n: 77576.0\n",
      "control k: 13008\n",
      "control rate: 0.167680725998\n",
      "-----\n",
      "Power_divergenceResult(statistic=54.161316593727925, pvalue=1.8468715240157723e-13)\n"
     ]
    }
   ],
   "source": [
    "ns_treatment = users_with_ns[users_with_ns[\"bucket\"] == \"treatment\"]\n",
    "ns_control = users_with_ns[users_with_ns[\"bucket\"] == \"control\"]\n",
    "\n",
    "verbose_chisquared( \n",
    "    \"VE\", \n",
    "    ns_treatment[\"content_revs\"].sum(), \n",
    "    ns_treatment[\"reverted_content_revisions\"].sum(), \n",
    "    \"control\", \n",
    "    ns_control[\"content_revs\"].sum(), \n",
    "    ns_control[\"reverted_content_revisions\"].sum(), \n",
    ") "
   ]
  },
  {
   "cell_type": "markdown",
   "metadata": {},
   "source": [
    "Wow, that's *very* significant!"
   ]
  },
  {
   "cell_type": "code",
   "execution_count": 154,
   "metadata": {
    "collapsed": false
   },
   "outputs": [
    {
     "name": "stdout",
     "output_type": "stream",
     "text": [
      "VE average: 0.234\n",
      "control average: 0.24\n",
      "MannwhitneyuResult(statistic=86584996.5, pvalue=0.056479097217868986)\n"
     ]
    }
   ],
   "source": [
    "users_with_ns.loc[:, \"content_rv_prop\"] = users_with_ns[\"reverted_content_revisions\"] / users_with_ns[\"content_revs\"]\n",
    "\n",
    "users_with_ns.fillna(value = 0, inplace = True)\n",
    "ns_treatment_rv_prop = users_with_ns[ users_with_ns[\"bucket\"] == \"treatment\" ][\"content_rv_prop\"]\n",
    "ns_control_rv_prop = users_with_ns[ users_with_ns[\"bucket\"] == \"control\" ][\"content_rv_prop\"]\n",
    "\n",
    "verbose_mannwhitneyu( \"VE\", ns_treatment_rv_prop, \"control\", ns_control_rv_prop )"
   ]
  },
  {
   "cell_type": "code",
   "execution_count": 157,
   "metadata": {
    "collapsed": false
   },
   "outputs": [
    {
     "data": {
      "image/png": "[encoded data removed]",
      "text/plain": [
       "<matplotlib.figure.Figure at 0x11547ec88>"
      ]
     },
     "metadata": {},
     "output_type": "display_data"
    }
   ],
   "source": [
    "fig, axarr = plt.subplots( 1, 1, figsize=(20,10) )\n",
    "plt.hist(control_rv_prop, alpha = 0.5, range = (0, 1), bins = 20, label = \"Source editor only\")\n",
    "plt.hist(treatment_rv_prop, alpha = 0.5, range = (0, 1), bins = 20, label = \"Both editors\")\n",
    "plt.legend(loc=\"upper right\")\n",
    "plt.show()"
   ]
  },
  {
   "cell_type": "code",
   "execution_count": 156,
   "metadata": {
    "collapsed": false
   },
   "outputs": [
    {
     "data": {
      "image/png": "[encoded data removed]",
      "text/plain": [
       "<matplotlib.figure.Figure at 0x117b2cf60>"
      ]
     },
     "metadata": {},
     "output_type": "display_data"
    }
   ],
   "source": [
    "fig, axarr = plt.subplots( 1, 1, figsize=(20,10) )\n",
    "plt.hist(control_by_revs, alpha = 0.5, range = (0, 20), normed = 1, bins = 20, label = \"Source editor only\")\n",
    "plt.hist(treatment_by_revs, alpha = 0.5, range = (0, 20), normed = 1, bins = 20, label = \"Both editors\")\n",
    "plt.legend(loc=\"upper right\")\n",
    "plt.show()"
   ]
  },
  {
   "cell_type": "code",
   "execution_count": 74,
   "metadata": {
    "collapsed": false
   },
   "outputs": [
    {
     "data": {
      "image/png": "[encoded data removed]",
      "text/plain": [
       "<matplotlib.figure.Figure at 0x11794fcc0>"
      ]
     },
     "metadata": {},
     "output_type": "display_data"
    }
   ],
   "source": [
    "fig, axarr = plt.subplots( 1, 1, figsize=(20,10) )\n",
    "plt.hist(control_reverts, log = True, alpha = 0.5, range = (0, 20), normed = 1, bins = 20, label = \"Source editor only\")\n",
    "plt.hist(treatment_reverts, log = True, alpha = 0.5, range = (0, 20), normed = 1, bins = 20, label = \"Both editors\")\n",
    "plt.legend(loc=\"upper right\")\n",
    "plt.show()"
   ]
  },
  {
   "cell_type": "markdown",
   "metadata": {},
   "source": [
    "## Long-term survival"
   ]
  },
  {
   "cell_type": "markdown",
   "metadata": {},
   "source": [
    "Proportion who made at least one edit more than a month after registering.\n",
    "Chi squared test."
   ]
  },
  {
   "cell_type": "code",
   "execution_count": 21,
   "metadata": {
    "collapsed": false
   },
   "outputs": [
    {
     "name": "stdout",
     "output_type": "stream",
     "text": [
      "treatment n: 38365\n",
      "treatment k: 1100\n",
      "treatment rate: 0.0286719666363\n",
      "-----\n",
      "control n: 38493\n",
      "control k: 1081\n",
      "control rate: 0.028083028083\n",
      "-----\n",
      "Power_divergenceResult(statistic=0.23485578752524316, pvalue=0.62794647801854031)\n"
     ]
    }
   ],
   "source": [
    "import datetime as dt\n",
    "window = dt.timedelta( days = 60 )\n",
    "revs_windowed = revs[ revs[\"rev_timestamp\"] < ( revs[\"registration\"] + window ) ]\n",
    "\n",
    "month = dt.timedelta( days = 30 )\n",
    "survived_revs = revs_windowed[ revs_windowed[\"rev_timestamp\"] > ( revs_windowed[\"registration\"] + month ) ]\n",
    "\n",
    "survivors = pd.DataFrame( survived_revs[ \"user_id\" ].unique() )\n",
    "survivors.rename( columns = { 0: \"user_id\" }, inplace=True )\n",
    "survivors.loc[ :, \"survived\" ] = pd.Series( 1, index = survivors.index )\n",
    "\n",
    "survival = pd.merge( users, survivors, on=\"user_id\", how=\"left\" )\n",
    "survival.survived.fillna( 0, inplace = True )\n",
    "\n",
    "treatment_survivors = survival[ ( survival[\"survived\"] == 1 ) & ( survival[\"bucket\"] == \"treatment\" ) ].count( )[ \"user_id\" ]\n",
    "control_survivors = survival[ ( survival[\"survived\"] == 1 ) & ( survival[\"bucket\"] == \"control\" ) ].count( )[ \"user_id\" ]\n",
    "    \n",
    "verbose_chisquared( \"treatment\", n_treatment, treatment_survivors, \"control\", n_control, control_survivors )"
   ]
  },
  {
   "cell_type": "markdown",
   "metadata": {},
   "source": [
    "That's disappointing, particularly considering that a promising resulting on this test was my main motivation for doing this follow-up. But clearly, there's nothing here."
   ]
  },
  {
   "cell_type": "markdown",
   "metadata": {},
   "source": [
    "## Long-term survival filtered ##"
   ]
  },
  {
   "cell_type": "markdown",
   "metadata": {},
   "source": [
    "Just to see what happens, let's see how it looks if we filter out all the users who never made an edit before checking survival. The fact that there's no significant difference in the rate of any editing means we're not introducing a new bias here."
   ]
  },
  {
   "cell_type": "code",
   "execution_count": 81,
   "metadata": {
    "collapsed": false
   },
   "outputs": [
    {
     "name": "stdout",
     "output_type": "stream",
     "text": [
      "treatment n: 13343\n",
      "treatment k: 1100\n",
      "treatment rate: 0.0824402308326\n",
      "-----\n",
      "control n: 13126\n",
      "control k: 1081\n",
      "control rate: 0.0823556300472\n",
      "-----\n",
      "Power_divergenceResult(statistic=0.00057475004009485578, pvalue=0.98087339158983755)\n"
     ]
    }
   ],
   "source": [
    "import datetime as dt\n",
    "\n",
    "window = dt.timedelta( days = 60 )\n",
    "revs_windowed = revs[ revs[\"rev_timestamp\"] < ( revs[\"registration\"] + window ) ]\n",
    "\n",
    "month = dt.timedelta( days = 30 )\n",
    "survived_revs = revs_windowed[ revs_windowed[\"rev_timestamp\"] > ( revs_windowed[\"registration\"] + month ) ]\n",
    "\n",
    "survivors = pd.DataFrame( survived_revs[ \"user_id\" ].unique() )\n",
    "survivors.rename( columns = { 0: \"user_id\" }, inplace=True )\n",
    "survivors.loc[ :, \"survived\" ] = pd.Series( 1, index = survivors.index )\n",
    "\n",
    "survival = pd.merge( users, survivors, on=\"user_id\", how=\"left\" )\n",
    "survival.survived.fillna( 0, inplace = True )\n",
    "\n",
    "n_treatment = len( survival[ ( survival[\"revs\"] >= 1 ) & ( survival[\"bucket\"] == \"treatment\" ) ] )\n",
    "n_control = len( survival[ ( survival[\"revs\"] >= 1 ) & ( survival[\"bucket\"] == \"control\" ) ] )\n",
    "treatment_survivors = survival[ ( survival[\"survived\"] == 1 ) & ( survival[\"bucket\"] == \"treatment\" ) ].count( )[ \"user_id\" ]\n",
    "control_survivors = survival[ ( survival[\"survived\"] == 1 ) & ( survival[\"bucket\"] == \"control\" ) ].count( )[ \"user_id\" ]\n",
    "\n",
    "verbose_chisquared( \"treatment\", n_treatment, treatment_survivors, \"control\", n_control, control_survivors )"
   ]
  },
  {
   "cell_type": "markdown",
   "metadata": {
    "collapsed": true
   },
   "source": [
    "Wow, even farther from significant than before. As I said, nothing here."
   ]
  }
 ],
 "metadata": {
  "kernelspec": {
   "display_name": "Python 3",
   "language": "python",
   "name": "python3"
  },
  "language_info": {
   "codemirror_mode": {
    "name": "ipython",
    "version": 3
   },
   "file_extension": ".py",
   "mimetype": "text/x-python",
   "name": "python",
   "nbconvert_exporter": "python",
   "pygments_lexer": "ipython3",
   "version": "3.5.1"
  }
 },
 "nbformat": 4,
 "nbformat_minor": 0
}
